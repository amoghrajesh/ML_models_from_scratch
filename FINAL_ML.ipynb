{
 "cells": [
  {
   "cell_type": "code",
   "execution_count": 4,
   "metadata": {},
   "outputs": [],
   "source": [
    "import numpy as np\n",
    "import pandas as pd\n",
    "import matplotlib.pyplot as plt"
   ]
  },
  {
   "cell_type": "code",
   "execution_count": 5,
   "metadata": {},
   "outputs": [
    {
     "data": {
      "text/html": [
       "<div>\n",
       "<style scoped>\n",
       "    .dataframe tbody tr th:only-of-type {\n",
       "        vertical-align: middle;\n",
       "    }\n",
       "\n",
       "    .dataframe tbody tr th {\n",
       "        vertical-align: top;\n",
       "    }\n",
       "\n",
       "    .dataframe thead th {\n",
       "        text-align: right;\n",
       "    }\n",
       "</style>\n",
       "<table border=\"1\" class=\"dataframe\">\n",
       "  <thead>\n",
       "    <tr style=\"text-align: right;\">\n",
       "      <th></th>\n",
       "      <th>id</th>\n",
       "      <th>Clump_Thickness</th>\n",
       "      <th>Uniformity_of_Cell_Size</th>\n",
       "      <th>Uniformity_of_Cell_Shape</th>\n",
       "      <th>Marginal_Adhesion</th>\n",
       "      <th>Single_Epithelial_Cell_Size</th>\n",
       "      <th>Bare_Nuclei</th>\n",
       "      <th>Bland_Chromatin</th>\n",
       "      <th>Normal_Nucleoli</th>\n",
       "      <th>Mitoses</th>\n",
       "      <th>Class</th>\n",
       "    </tr>\n",
       "  </thead>\n",
       "  <tbody>\n",
       "    <tr>\n",
       "      <th>0</th>\n",
       "      <td>1002945</td>\n",
       "      <td>5</td>\n",
       "      <td>4</td>\n",
       "      <td>4</td>\n",
       "      <td>5</td>\n",
       "      <td>7</td>\n",
       "      <td>10</td>\n",
       "      <td>3</td>\n",
       "      <td>2</td>\n",
       "      <td>1</td>\n",
       "      <td>2</td>\n",
       "    </tr>\n",
       "    <tr>\n",
       "      <th>1</th>\n",
       "      <td>1015425</td>\n",
       "      <td>3</td>\n",
       "      <td>1</td>\n",
       "      <td>1</td>\n",
       "      <td>1</td>\n",
       "      <td>2</td>\n",
       "      <td>2</td>\n",
       "      <td>3</td>\n",
       "      <td>1</td>\n",
       "      <td>1</td>\n",
       "      <td>2</td>\n",
       "    </tr>\n",
       "    <tr>\n",
       "      <th>2</th>\n",
       "      <td>1016277</td>\n",
       "      <td>6</td>\n",
       "      <td>8</td>\n",
       "      <td>8</td>\n",
       "      <td>1</td>\n",
       "      <td>3</td>\n",
       "      <td>4</td>\n",
       "      <td>3</td>\n",
       "      <td>7</td>\n",
       "      <td>1</td>\n",
       "      <td>2</td>\n",
       "    </tr>\n",
       "    <tr>\n",
       "      <th>3</th>\n",
       "      <td>1017023</td>\n",
       "      <td>4</td>\n",
       "      <td>1</td>\n",
       "      <td>1</td>\n",
       "      <td>3</td>\n",
       "      <td>2</td>\n",
       "      <td>1</td>\n",
       "      <td>3</td>\n",
       "      <td>1</td>\n",
       "      <td>1</td>\n",
       "      <td>2</td>\n",
       "    </tr>\n",
       "    <tr>\n",
       "      <th>4</th>\n",
       "      <td>1017122</td>\n",
       "      <td>8</td>\n",
       "      <td>10</td>\n",
       "      <td>10</td>\n",
       "      <td>8</td>\n",
       "      <td>7</td>\n",
       "      <td>10</td>\n",
       "      <td>9</td>\n",
       "      <td>7</td>\n",
       "      <td>1</td>\n",
       "      <td>4</td>\n",
       "    </tr>\n",
       "  </tbody>\n",
       "</table>\n",
       "</div>"
      ],
      "text/plain": [
       "        id  Clump_Thickness  Uniformity_of_Cell_Size  \\\n",
       "0  1002945                5                        4   \n",
       "1  1015425                3                        1   \n",
       "2  1016277                6                        8   \n",
       "3  1017023                4                        1   \n",
       "4  1017122                8                       10   \n",
       "\n",
       "   Uniformity_of_Cell_Shape  Marginal_Adhesion  Single_Epithelial_Cell_Size  \\\n",
       "0                         4                  5                            7   \n",
       "1                         1                  1                            2   \n",
       "2                         8                  1                            3   \n",
       "3                         1                  3                            2   \n",
       "4                        10                  8                            7   \n",
       "\n",
       "  Bare_Nuclei  Bland_Chromatin  Normal_Nucleoli  Mitoses  Class  \n",
       "0          10                3                2        1      2  \n",
       "1           2                3                1        1      2  \n",
       "2           4                3                7        1      2  \n",
       "3           1                3                1        1      2  \n",
       "4          10                9                7        1      4  "
      ]
     },
     "execution_count": 5,
     "metadata": {},
     "output_type": "execute_result"
    }
   ],
   "source": [
    "df = pd.read_csv('breast-cancer.data')\n",
    "df.columns=[\"id\",\"Clump_Thickness\",\"Uniformity_of_Cell_Size\",\"Uniformity_of_Cell_Shape\",\"Marginal_Adhesion\",\"Single_Epithelial_Cell_Size\",\"Bare_Nuclei\",\"Bland_Chromatin\",\"Normal_Nucleoli\",\"Mitoses\",\"Class\"]\n",
    "df.head()"
   ]
  },
  {
   "cell_type": "code",
   "execution_count": 6,
   "metadata": {},
   "outputs": [
    {
     "data": {
      "text/plain": [
       "2    457\n",
       "4    241\n",
       "Name: Class, dtype: int64"
      ]
     },
     "execution_count": 6,
     "metadata": {},
     "output_type": "execute_result"
    }
   ],
   "source": [
    "df['Class'].value_counts()"
   ]
  },
  {
   "cell_type": "code",
   "execution_count": 7,
   "metadata": {},
   "outputs": [
    {
     "data": {
      "text/plain": [
       "(698, 11)"
      ]
     },
     "execution_count": 7,
     "metadata": {},
     "output_type": "execute_result"
    }
   ],
   "source": [
    "df.shape"
   ]
  },
  {
   "cell_type": "code",
   "execution_count": 8,
   "metadata": {},
   "outputs": [],
   "source": [
    "#cleaning\n",
    "df=df[df.id.astype(str)!='?']\n",
    "df=df[df.Clump_Thickness.astype(str)!='?']\n",
    "df=df[df.Uniformity_of_Cell_Size.astype(str)!='?']\n",
    "df=df[df.Uniformity_of_Cell_Shape.astype(str)!='?']\n",
    "df=df[df.Marginal_Adhesion.astype(str)!='?']\n",
    "df=df[df.Single_Epithelial_Cell_Size.astype(str)!='?']\n",
    "df=df[df.Bare_Nuclei.astype(str)!='?']\n",
    "# df=df[df.id!='?']\n",
    "# df=df[df.id!='?']\n",
    "# df=df[df.id!='?']\n",
    "# df=df[df.id!='?']"
   ]
  },
  {
   "cell_type": "code",
   "execution_count": 9,
   "metadata": {},
   "outputs": [],
   "source": [
    "def train_test_split(df, test_size):\n",
    "    if isinstance(test_size,float):#if the test size is provides in proportions rather than number\n",
    "        test_size=round(test_size*len(df))# we round because the multiplication could result in some decimal number\n",
    "        \n",
    "    indices=df.index.tolist()\n",
    "    \n",
    "    test_indices=random.sample(population=indices,k=test_size)#to sample random indices this acccepts list that's why converted above indices to list\n",
    "    test_df=df.loc[test_indices]#loc function allows us to access only certain rows based on parameter passed\n",
    "    train_df=df.drop(test_indices)\n",
    "    return train_df,test_df"
   ]
  },
  {
   "cell_type": "code",
   "execution_count": 10,
   "metadata": {},
   "outputs": [],
   "source": [
    "#Function to normalize all the data points\n",
    "def normalize(inp_data):\n",
    "    inp_df = (inp_data - inp_data.min()) / (inp_data.max()-inp_data.min())\n",
    "    return inp_df"
   ]
  },
  {
   "cell_type": "code",
   "execution_count": 11,
   "metadata": {},
   "outputs": [],
   "source": [
    "import random\n",
    "random.seed(0)\n",
    "#Splitting the data into training and testing data\n",
    "train_df,test_df=train_test_split(df,.2)\n",
    "\n",
    "#Output column of the training dataset (train_df)\n",
    "out = train_df[[\"Class\"]]\n",
    "#input columns of the training dataset (train_df)\n",
    "inp = train_df[[\"id\",\"Clump_Thickness\",\"Uniformity_of_Cell_Size\",\"Uniformity_of_Cell_Shape\",\"Marginal_Adhesion\",\"Single_Epithelial_Cell_Size\",\"Bare_Nuclei\",\"Bland_Chromatin\",\"Normal_Nucleoli\",\"Mitoses\"]]\n",
    "\n",
    "#output column of the testing dataset (test_df)\n",
    "out_test = test_df[[\"Class\"]]\n",
    "#input columns of the the testing dataset (test_df)\n",
    "inp_test = test_df[[\"id\",\"Clump_Thickness\",\"Uniformity_of_Cell_Size\",\"Uniformity_of_Cell_Shape\",\"Marginal_Adhesion\",\"Single_Epithelial_Cell_Size\",\"Bare_Nuclei\",\"Bland_Chromatin\",\"Normal_Nucleoli\",\"Mitoses\"]]\n",
    "\n",
    "#Converting the datatype of all the input columns of training data to 'int' data type\n",
    "inp_df = inp.astype('int')\n",
    "#Normalising the input data\n",
    "inp_df = normalize(inp_df)\n",
    "\n",
    "#Converting the datatype of all the output columns of training data to 'int' data type\n",
    "out_df = out.astype('int')\n",
    "#normalising the output data\n",
    "out_df = normalize(out_df)\n",
    "\n",
    "#Converting the datatype of all the input columns of testing data to 'int' data type\n",
    "test_inp = inp_test.astype('int')\n",
    "test_inp = normalize(test_inp)\n",
    "\n",
    "#Converting the datatype of all the output columns of testing data to 'int' data type\n",
    "test_out = out_test.astype('int')\n",
    "test_out = normalize(test_out)"
   ]
  },
  {
   "cell_type": "code",
   "execution_count": 12,
   "metadata": {},
   "outputs": [
    {
     "name": "stdout",
     "output_type": "stream",
     "text": [
      "10\n"
     ]
    }
   ],
   "source": [
    "#Initialising the beta value(the weights) to 0\n",
    "b_val = np.matrix(np.zeros(inp_df.shape[1]))\n",
    "initial=np.array(b_val)[0].tolist()\n",
    "print(len(initial))\n",
    "\n",
    "def logistic_func(inp_df,b_val):\n",
    "    return 1.0/(1.0 + np.exp(-np.dot(inp_df,b_val.T)))\n",
    "\n",
    "#this is for convergence(not sure abt this) , have not used this function for now\n",
    "def cost_func(inp_df,out_df,b_val):\n",
    "    log_func = logistic_func(inp_df,b_val)\n",
    "    out_df = np.squeeze(out_df)\n",
    "    out_df = np.matrix(out_df)\n",
    "    \n",
    "    #val11 = np.dot(out_df,np.log(log_func))\n",
    "    val1 = out_df * np.log(log_func)\n",
    "    val2 = (1-out_df) * np.log(1-log_func)\n",
    "    diff = -val1-val2\n",
    "    return np.mean(diff)\n",
    "\n",
    "\n",
    "\n",
    "def log_gradient(inp_df,out_df,b_val):\n",
    "    out_df = np.matrix(out_df)\n",
    "    val1 =  (out_df.reshape(out_df.shape)) - logistic_func(inp_df,b_val) \n",
    "    val2 = np.dot(val1.T,inp_df)\n",
    "    return val2\n",
    "\n",
    "def grad_desc(inp_df,out_df,b_val,alp=0.01,converge=0.000001):\n",
    "    #cost = cost_func(inp_df,out_df,b_val)\n",
    "    num_iter = 1\n",
    "    #cost_diff = 1\n",
    "\n",
    "    while(num_iter!=20):\n",
    "        #old_cost = cost\n",
    "        b_val = b_val + (alp * log_gradient(inp_df,out_df,b_val))\n",
    "        num_iter +=1\n",
    "        #cost = cost_func(inp_df,out_df,b_val)\n",
    "        #cost_diff = old_cost - cost\n",
    "        \n",
    "    return b_val,num_iter\n",
    "\n",
    "#predicting the values using the logistic function (if value is >0.5 consider it as class 1 else class 0)\n",
    "def pred_values(b_val,test_inp):\n",
    "    pred_val = logistic_func(test_inp,b_val)\n",
    "    final_val = np.where(pred_val>=0.5,1,0)\n",
    "    return np.squeeze(final_val)\n",
    "\n",
    "#For calculating the accuracy of the model (taking the count of correctly classified data points)\n",
    "def accuracy(pred_vals,actual_vals):\n",
    "    total = np.sum(pred_vals == actual_vals)\n",
    "    accu = (total/(actual_vals.shape[0]))*100\n",
    "    return accu"
   ]
  },
  {
   "cell_type": "code",
   "execution_count": 13,
   "metadata": {},
   "outputs": [],
   "source": [
    "b_val,iterations = grad_desc(inp_df,out_df,b_val)"
   ]
  },
  {
   "cell_type": "code",
   "execution_count": 14,
   "metadata": {},
   "outputs": [
    {
     "data": {
      "text/plain": [
       "matrix([[-1.89264782, -1.7700251 ,  1.69651684,  1.31738277,  0.90627679,\n",
       "         -1.20446875,  2.07790976, -0.68502223,  1.39301575,  0.5927504 ]])"
      ]
     },
     "execution_count": 14,
     "metadata": {},
     "output_type": "execute_result"
    }
   ],
   "source": [
    "b_val"
   ]
  },
  {
   "cell_type": "code",
   "execution_count": 15,
   "metadata": {},
   "outputs": [
    {
     "name": "stdout",
     "output_type": "stream",
     "text": [
      "           id  Clump_Thickness  Uniformity_of_Cell_Size  \\\n",
      "408  0.899615         0.222222                 0.000000   \n",
      "445  0.739255         0.000000                 0.000000   \n",
      "43   0.785160         1.000000                 1.000000   \n",
      "273  0.211365         0.222222                 0.000000   \n",
      "538  0.820856         0.555556                 0.000000   \n",
      "512  0.956746         0.222222                 0.000000   \n",
      "429  0.932412         0.000000                 0.222222   \n",
      "324  0.477600         0.222222                 0.111111   \n",
      "503  0.926159         0.000000                 0.000000   \n",
      "380  0.565597         1.000000                 0.555556   \n",
      "612  0.710909         0.111111                 0.222222   \n",
      "229  0.893651         0.666667                 0.333333   \n",
      "531  0.585578         0.000000                 0.000000   \n",
      "146  0.855167         0.000000                 0.000000   \n",
      "300  0.386066         0.000000                 0.000000   \n",
      "147  0.856744         0.222222                 0.000000   \n",
      "99   0.838984         1.000000                 0.222222   \n",
      "649  0.969564         0.222222                 0.000000   \n",
      "264  0.852430         0.444444                 0.000000   \n",
      "560  0.971556         0.444444                 0.000000   \n",
      "632  0.913514         0.777778                 0.666667   \n",
      "154  0.860899         0.444444                 0.444444   \n",
      "331  0.500409         0.444444                 0.111111   \n",
      "103  0.840761         1.000000                 1.000000   \n",
      "77   0.810369         0.222222                 0.000000   \n",
      "352  0.569360         0.111111                 0.666667   \n",
      "498  0.882778         0.333333                 0.000000   \n",
      "588  0.929061         0.444444                 0.000000   \n",
      "105  0.842198         1.000000                 1.000000   \n",
      "376  0.401530         0.000000                 0.000000   \n",
      "..        ...              ...                      ...   \n",
      "86   0.823804         0.222222                 0.555556   \n",
      "346  0.552659         0.000000                 0.000000   \n",
      "120  0.845304         0.333333                 0.111111   \n",
      "513  0.958187         0.555556                 0.555556   \n",
      "357  0.582587         0.777778                 1.000000   \n",
      "200  0.881704         1.000000                 0.777778   \n",
      "256  0.852430         0.222222                 0.000000   \n",
      "16   0.739236         0.333333                 0.000000   \n",
      "286  0.300012         0.222222                 0.000000   \n",
      "121  0.845367         1.000000                 1.000000   \n",
      "231  0.894520         0.777778                 0.333333   \n",
      "394  0.840370         0.222222                 0.000000   \n",
      "180  0.871073         0.000000                 0.000000   \n",
      "628  0.883657         0.333333                 0.000000   \n",
      "451  0.890571         0.222222                 0.000000   \n",
      "658  0.982419         0.000000                 0.000000   \n",
      "669  0.997941         0.222222                 1.000000   \n",
      "153  0.859329         0.000000                 0.000000   \n",
      "230  0.894247         0.555556                 0.777778   \n",
      "48   0.787910         0.666667                 0.777778   \n",
      "562  0.977372         0.222222                 0.000000   \n",
      "673  1.000000         0.000000                 0.000000   \n",
      "28   0.757267         0.000000                 0.000000   \n",
      "630  0.898021         0.444444                 0.000000   \n",
      "613  0.723692         0.111111                 0.000000   \n",
      "124  0.847309         0.000000                 0.000000   \n",
      "601  0.995994         0.333333                 0.000000   \n",
      "621  0.816738         0.666667                 0.000000   \n",
      "393  0.831941         0.000000                 0.111111   \n",
      "670  0.998149         0.222222                 0.111111   \n",
      "\n",
      "     Uniformity_of_Cell_Shape  Marginal_Adhesion  Single_Epithelial_Cell_Size  \\\n",
      "408                  0.111111           0.000000                     0.111111   \n",
      "445                  0.000000           0.000000                     0.111111   \n",
      "43                   1.000000           0.333333                     0.777778   \n",
      "273                  0.000000           0.000000                     0.111111   \n",
      "538                  0.000000           0.000000                     0.111111   \n",
      "512                  0.000000           0.000000                     0.000000   \n",
      "429                  0.000000           0.000000                     0.111111   \n",
      "324                  0.111111           0.000000                     0.111111   \n",
      "503                  0.000000           0.000000                     0.111111   \n",
      "380                  0.222222           0.555556                     0.333333   \n",
      "612                  0.000000           0.000000                     0.111111   \n",
      "229                  0.666667           0.333333                     0.222222   \n",
      "531                  0.000000           0.000000                     0.000000   \n",
      "146                  0.000000           0.000000                     0.222222   \n",
      "300                  0.000000           0.000000                     0.111111   \n",
      "147                  0.000000           0.222222                     0.777778   \n",
      "99                   0.444444           0.000000                     1.000000   \n",
      "649                  0.000000           0.111111                     0.222222   \n",
      "264                  0.333333           0.000000                     0.111111   \n",
      "560                  0.000000           0.000000                     0.111111   \n",
      "632                  0.333333           0.333333                     0.444444   \n",
      "154                  0.444444           0.555556                     0.222222   \n",
      "331                  0.111111           0.111111                     0.111111   \n",
      "103                  1.000000           1.000000                     1.000000   \n",
      "77                   0.000000           0.000000                     0.111111   \n",
      "352                  1.000000           1.000000                     0.666667   \n",
      "498                  0.000000           0.000000                     0.111111   \n",
      "588                  0.000000           0.000000                     0.111111   \n",
      "105                  1.000000           0.777778                     0.111111   \n",
      "376                  0.000000           0.000000                     0.000000   \n",
      "..                        ...                ...                          ...   \n",
      "86                   0.555556           0.555556                     0.444444   \n",
      "346                  0.000000           0.000000                     0.000000   \n",
      "120                  0.000000           0.000000                     0.111111   \n",
      "513                  0.666667           1.000000                     0.222222   \n",
      "357                  0.444444           0.222222                     0.777778   \n",
      "200                  0.777778           0.333333                     1.000000   \n",
      "256                  0.000000           0.000000                     0.111111   \n",
      "16                   0.000000           0.000000                     0.111111   \n",
      "286                  0.000000           0.000000                     0.222222   \n",
      "121                  1.000000           0.111111                     1.000000   \n",
      "231                  0.555556           0.222222                     0.222222   \n",
      "394                  0.000000           0.000000                     0.111111   \n",
      "180                  0.000000           0.000000                     0.111111   \n",
      "628                  0.000000           0.000000                     0.111111   \n",
      "451                  0.000000           0.222222                     0.111111   \n",
      "658                  0.000000           0.000000                     0.111111   \n",
      "669                  0.666667           0.777778                     0.444444   \n",
      "153                  0.000000           0.000000                     0.111111   \n",
      "230                  0.666667           0.444444                     0.555556   \n",
      "48                   0.666667           0.111111                     0.333333   \n",
      "562                  0.000000           0.000000                     0.111111   \n",
      "673                  0.000000           0.000000                     0.111111   \n",
      "28                   0.222222           0.000000                     0.111111   \n",
      "630                  0.000000           0.000000                     0.111111   \n",
      "613                  0.000000           0.000000                     0.000000   \n",
      "124                  0.000000           0.000000                     0.111111   \n",
      "601                  0.000000           0.000000                     0.111111   \n",
      "621                  0.111111           0.222222                     0.111111   \n",
      "393                  0.222222           0.000000                     0.111111   \n",
      "670                  0.000000           0.111111                     0.111111   \n",
      "\n",
      "     Bare_Nuclei  Bland_Chromatin  Normal_Nucleoli   Mitoses  \n",
      "408     0.000000         0.111111         0.000000  0.000000  \n",
      "445     0.000000         0.000000         0.000000  0.000000  \n",
      "43      0.000000         0.777778         1.000000  0.000000  \n",
      "273     0.000000         0.222222         0.111111  0.000000  \n",
      "538     0.000000         0.111111         0.000000  0.000000  \n",
      "512     0.000000         0.111111         0.000000  0.000000  \n",
      "429     0.000000         0.111111         0.111111  0.000000  \n",
      "324     0.000000         0.111111         0.222222  0.000000  \n",
      "503     0.000000         0.000000         0.000000  0.000000  \n",
      "380     1.000000         0.666667         0.777778  0.333333  \n",
      "612     0.000000         0.111111         0.000000  0.000000  \n",
      "229     0.666667         0.666667         0.555556  0.000000  \n",
      "531     0.000000         0.222222         0.000000  0.000000  \n",
      "146     0.111111         0.111111         0.000000  0.000000  \n",
      "300     0.000000         0.222222         0.000000  0.000000  \n",
      "147     0.000000         0.444444         0.777778  0.000000  \n",
      "99      0.444444         0.222222         1.000000  0.111111  \n",
      "649     0.333333         0.000000         0.000000  0.000000  \n",
      "264     0.000000         0.222222         0.111111  0.000000  \n",
      "560     0.000000         0.222222         0.000000  0.000000  \n",
      "632     0.222222         0.444444         1.000000  0.000000  \n",
      "154     1.000000         0.222222         0.000000  0.000000  \n",
      "331     0.000000         0.111111         0.111111  0.000000  \n",
      "103     0.000000         0.777778         0.777778  0.777778  \n",
      "77      0.222222         0.222222         0.000000  0.000000  \n",
      "352     1.000000         0.333333         0.888889  0.333333  \n",
      "498     0.000000         0.111111         0.000000  0.000000  \n",
      "588     0.000000         0.000000         0.000000  0.000000  \n",
      "105     1.000000         0.333333         0.000000  0.000000  \n",
      "376     0.000000         0.111111         0.000000  0.000000  \n",
      "..           ...              ...              ...       ...  \n",
      "86      1.000000         0.555556         0.777778  0.222222  \n",
      "346     0.000000         0.000000         0.222222  0.000000  \n",
      "120     0.111111         0.222222         0.000000  0.000000  \n",
      "513     1.000000         0.777778         1.000000  0.111111  \n",
      "357     0.333333         0.333333         1.000000  0.222222  \n",
      "200     1.000000         0.777778         0.000000  0.000000  \n",
      "256     0.000000         0.111111         0.000000  0.000000  \n",
      "16      0.000000         0.222222         0.000000  0.000000  \n",
      "286     0.000000         0.111111         0.000000  0.000000  \n",
      "121     1.000000         0.444444         0.222222  0.222222  \n",
      "231     0.000000         0.333333         0.222222  0.000000  \n",
      "394     0.000000         0.111111         0.000000  0.000000  \n",
      "180     0.000000         0.000000         0.000000  0.000000  \n",
      "628     0.000000         0.000000         0.000000  0.000000  \n",
      "451     0.000000         0.000000         0.000000  0.000000  \n",
      "658     0.000000         0.000000         0.000000  0.000000  \n",
      "669     0.777778         0.666667         0.333333  0.000000  \n",
      "153     0.000000         0.000000         0.000000  0.000000  \n",
      "230     0.777778         0.777778         0.888889  0.111111  \n",
      "48      0.777778         0.222222         0.777778  0.111111  \n",
      "562     0.000000         0.111111         0.000000  0.000000  \n",
      "673     0.000000         0.111111         0.000000  0.000000  \n",
      "28      0.000000         0.000000         0.000000  0.000000  \n",
      "630     0.000000         0.111111         0.000000  0.000000  \n",
      "613     0.000000         0.111111         0.000000  0.000000  \n",
      "124     0.000000         0.111111         0.000000  0.000000  \n",
      "601     0.000000         0.111111         0.000000  0.000000  \n",
      "621     0.000000         0.111111         0.000000  0.000000  \n",
      "393     0.000000         0.111111         0.000000  0.000000  \n",
      "670     0.000000         0.222222         0.000000  0.000000  \n",
      "\n",
      "[136 rows x 10 columns]\n"
     ]
    }
   ],
   "source": [
    "test_inp = normalize(test_inp)\n",
    "predict = pred_values(b_val,test_inp)\n",
    "print(test_inp)"
   ]
  },
  {
   "cell_type": "code",
   "execution_count": 16,
   "metadata": {},
   "outputs": [
    {
     "data": {
      "text/plain": [
       "Class    94.117647\n",
       "dtype: float64"
      ]
     },
     "execution_count": 16,
     "metadata": {},
     "output_type": "execute_result"
    }
   ],
   "source": [
    "predict = predict.reshape(136,1)\n",
    "accurate = accuracy(predict,test_out)\n",
    "accurate"
   ]
  },
  {
   "cell_type": "code",
   "execution_count": 17,
   "metadata": {},
   "outputs": [
    {
     "name": "stdout",
     "output_type": "stream",
     "text": [
      "size of each fold:  113\n",
      "Number of rows to drop:  4\n"
     ]
    }
   ],
   "source": [
    "#Creating the cross validation function here onwards\n",
    "from random import randint,randrange\n",
    "def cross_validation(df,folds=6):\n",
    "    l=df.values.tolist()\n",
    "    #print(l[607])\n",
    "    #print(l)\n",
    "    fold_size=len(l)//folds\n",
    "    print('size of each fold: ',fold_size)\n",
    "    print(\"Number of rows to drop: \",len(l)-fold_size*folds)\n",
    "    split_dataset=[]\n",
    "    for i in range(folds):\n",
    "        temp=[]\n",
    "        x=0\n",
    "        while x<fold_size:\n",
    "            index=randrange(len(l))\n",
    "            #print(\"index is: \",index)\n",
    "            #if index<len(l):\n",
    "            \n",
    "            row=l.pop(index)\n",
    "            temp.append(row)\n",
    "            x+=1\n",
    "        split_dataset.append(temp)\n",
    "    return split_dataset\n",
    "            \n",
    "\n",
    "    \n",
    "    \n",
    "split_dataset=cross_validation(df)\n",
    "# for i in split_dataset:\n",
    "#     print(i)\n",
    "# print(len(split_dataset))\n",
    "# print(split_dataset[0],len(split_dataset[0]))"
   ]
  },
  {
   "cell_type": "code",
   "execution_count": 113,
   "metadata": {},
   "outputs": [],
   "source": [
    "#0--->2(not harmful) and 1--->4(harmful)\n",
    "\n",
    "def myaccuracy(predicted,actual):\n",
    "    print(\"Predicted: \",predicted)\n",
    "    print(\"Actual: \",actual)\n",
    "    temp=[]\n",
    "    total=len(predicted)\n",
    "    right=0\n",
    "    for i in range(len(predicted)):\n",
    "        if int(predicted[i])==int(actual[i]):\n",
    "            #print(\"YES\")\n",
    "            right+=1\n",
    "    acc=right/total\n",
    "    \n",
    "    tp=0\n",
    "    tn=0\n",
    "    fp=0\n",
    "    fn=0\n",
    "    for i in range(len(predicted)):\n",
    "        pred=int(predicted[i])\n",
    "        act=int(actual[i])\n",
    "        if pred== 0 and act==0:\n",
    "            tn+=1\n",
    "        elif pred==0 and act==1:\n",
    "            fn+=1\n",
    "        elif pred==1 and act==0:\n",
    "            fp+=1\n",
    "        elif pred==1 and act==1:\n",
    "            tp+=1\n",
    "    \n",
    "    print(\"Confusion matrix: \")\n",
    "    print(\"\\t 1 \\t 0\")\n",
    "    print(\"1  \",tp,fp,sep=\"\\t\")\n",
    "    print(\"0  \",fn,tn,sep=\"\\t\")\n",
    "    fpr=fp/(fp+tn)\n",
    "    print(\"False positive rate: \",fpr)\n",
    "    temp.append(fpr)\n",
    "    #print(\"\\n\")\n",
    "    return acc*100,temp\n",
    "    "
   ]
  },
  {
   "cell_type": "code",
   "execution_count": 111,
   "metadata": {},
   "outputs": [
    {
     "name": "stdout",
     "output_type": "stream",
     "text": [
      "Logistic regression: \n",
      "[1 0 0 0 1 0 1 1 0 1 1 1 0 0 1 1 0 0 0 1 0 1 0 1 1 1 0 1 0 0 0 0 0 1 0 1 1\n",
      " 0 0 0 0 1 0 0 0 1 0 0 0 0 0 0 0 0 0 1 0 1 0 1 0 0 0 1 1 0 0 0 1 0 1 0 1 0\n",
      " 1 0 1 1 0 1 1 0 0 0 1 1 1 0 1 0 0 0 1 0 0 1 0 1 1 1 1 1 1 1 0 1 0 0 0 0 0\n",
      " 0 0 1 1 1 0 0 1 0 0 1 0 0 1 1 0 0 0 1 1 1 1 1 1 1 0 1 0 1 1 1 1 1 0 0 0 0\n",
      " 0 0 1 0 0 0 0 0 0 1 1 0 0 0 1 1 1 0 1 0 0 0 0 0 1 0 0 1 1 0 1 1 0 1 0 1 1\n",
      " 0 0 0 1 1 0 0 0 1 0 1 1 0 0 0 0 0 0 0 0 0 0 0 0 0 0 1 1 0 0 0 0 0 0 0 1 0\n",
      " 0 0 1 1 0 0 0 1 0 0 1 1 0 0 1 0 1 0 1 1 0 0 0 0 1 0 0 1 1 1 1 1 1 0 1 0 0\n",
      " 0 1 0 0 0 0 0 1 0 1 0 0 0 1 1 1 1 1 1 0 0 0 1 0 0 0 0 1 0 1 1 1 1 0 1 0 1\n",
      " 1 1 0 1 0 1 0 1 1 0 1 1 1 0 0 0 0 1 0 0 1 1 1 0 1 0 0 0 0 1 1 1 0 1 0 1 0\n",
      " 0 1 1 0 0 1 0 1 0 0 0 0 0 0 1 0 0 0 0 1 0 1 1 1 0 1 0 1 0 0 0 1 1 1 0 0 0\n",
      " 1 0 1 1 0 0 1 1 0 0 0 1 1 0 1 0 1 1 1 1 0 1 1 1 1 0 0 1 0 1 0 0 0 1 0 0 0\n",
      " 0 1 1 1 1 0 0 0 0 1 0 1 0 1 0 1 0 0 1 0 1 0 0 0 0 0 0 0 0 0 1 1 0 0 0 1 1\n",
      " 0 0 1 0 0 1 0 0 0 0 1 0 0 1 0 1 0 0 1 0 0 1 0 0 0 0 1 0 0 0 1 0 0 0 0 0 0\n",
      " 0 0 0 1 0 0 1 1 0 0 0 1 1 1 0 0 1 0 0 0 0 0 1 1 0 0 0 0 0 0 0 0 1 0 0 1 1\n",
      " 0 1 1 0 1 1 1 1 0 0 1 0 1 0 0 1 0 1 0 0 1 0 1 1 1 0 1 1 0 1 0 0 1 1 1 0 0\n",
      " 0 0 1 0 1 1 1 1 0 1] [1.0, 0.0, 0.0, 0.0, 0.0, 0.0, 1.0, 1.0, 0.0, 1.0, 1.0, 1.0, 0.0, 0.0, 0.0, 1.0, 0.0, 0.0, 0.0, 1.0, 0.0, 1.0, 0.0, 1.0, 1.0, 1.0, 0.0, 1.0, 0.0, 0.0, 0.0, 0.0, 0.0, 1.0, 0.0, 1.0, 1.0, 0.0, 0.0, 0.0, 0.0, 1.0, 0.0, 0.0, 0.0, 1.0, 0.0, 0.0, 0.0, 0.0, 0.0, 0.0, 0.0, 0.0, 0.0, 1.0, 1.0, 0.0, 0.0, 1.0, 0.0, 0.0, 0.0, 1.0, 1.0, 0.0, 0.0, 0.0, 1.0, 0.0, 1.0, 0.0, 1.0, 0.0, 1.0, 0.0, 1.0, 0.0, 0.0, 1.0, 1.0, 0.0, 0.0, 0.0, 1.0, 1.0, 1.0, 0.0, 1.0, 0.0, 0.0, 0.0, 0.0, 1.0, 0.0, 1.0, 0.0, 1.0, 1.0, 1.0, 1.0, 1.0, 0.0, 1.0, 0.0, 0.0, 0.0, 0.0, 0.0, 0.0, 0.0, 0.0, 0.0, 1.0, 1.0, 0.0, 0.0, 0.0, 1.0, 0.0, 0.0, 1.0, 0.0, 0.0, 1.0, 1.0, 0.0, 0.0, 0.0, 1.0, 0.0, 0.0, 1.0, 1.0, 0.0, 1.0, 0.0, 1.0, 0.0, 1.0, 1.0, 1.0, 1.0, 1.0, 0.0, 0.0, 0.0, 0.0, 0.0, 0.0, 1.0, 0.0, 0.0, 0.0, 0.0, 0.0, 0.0, 1.0, 1.0, 0.0, 0.0, 0.0, 0.0, 1.0, 1.0, 1.0, 1.0, 0.0, 0.0, 0.0, 0.0, 0.0, 1.0, 0.0, 0.0, 1.0, 1.0, 0.0, 1.0, 1.0, 0.0, 1.0, 0.0, 1.0, 0.0, 0.0, 0.0, 0.0, 1.0, 0.0, 0.0, 0.0, 0.0, 1.0, 0.0, 1.0, 1.0, 0.0, 0.0, 0.0, 0.0, 0.0, 0.0, 0.0, 0.0, 0.0, 0.0, 0.0, 0.0, 0.0, 0.0, 1.0, 0.0, 0.0, 0.0, 0.0, 0.0, 0.0, 0.0, 0.0, 1.0, 0.0, 0.0, 0.0, 1.0, 1.0, 0.0, 0.0, 0.0, 0.0, 0.0, 0.0, 0.0, 1.0, 0.0, 0.0, 1.0, 0.0, 1.0, 0.0, 1.0, 1.0, 0.0, 0.0, 0.0, 0.0, 0.0, 0.0, 0.0, 1.0, 1.0, 0.0, 1.0, 1.0, 1.0, 0.0, 0.0, 0.0, 0.0, 0.0, 0.0, 0.0, 0.0, 0.0, 1.0, 0.0, 1.0, 0.0, 1.0, 0.0, 0.0, 0.0, 1.0, 1.0, 1.0, 0.0, 1.0, 1.0, 0.0, 0.0, 0.0, 1.0, 0.0, 0.0, 0.0, 1.0, 1.0, 0.0, 1.0, 0.0, 1.0, 0.0, 0.0, 0.0, 0.0, 1.0, 1.0, 1.0, 0.0, 1.0, 0.0, 1.0, 0.0, 0.0, 1.0, 0.0, 1.0, 1.0, 1.0, 1.0, 0.0, 0.0, 0.0, 1.0, 0.0, 0.0, 1.0, 1.0, 1.0, 0.0, 1.0, 0.0, 0.0, 0.0, 0.0, 1.0, 1.0, 1.0, 0.0, 1.0, 0.0, 0.0, 0.0, 0.0, 1.0, 1.0, 0.0, 0.0, 0.0, 0.0, 1.0, 0.0, 0.0, 0.0, 0.0, 0.0, 0.0, 1.0, 0.0, 0.0, 0.0, 0.0, 1.0, 0.0, 1.0, 1.0, 1.0, 0.0, 0.0, 0.0, 1.0, 0.0, 0.0, 0.0, 0.0, 0.0, 1.0, 0.0, 0.0, 0.0, 1.0, 0.0, 1.0, 1.0, 0.0, 0.0, 0.0, 0.0, 0.0, 0.0, 0.0, 1.0, 1.0, 0.0, 1.0, 0.0, 0.0, 1.0, 1.0, 1.0, 0.0, 1.0, 1.0, 1.0, 1.0, 0.0, 0.0, 1.0, 0.0, 0.0, 0.0, 0.0, 0.0, 1.0, 0.0, 0.0, 0.0, 0.0, 1.0, 1.0, 1.0, 1.0, 0.0, 0.0, 0.0, 0.0, 0.0, 0.0, 1.0, 0.0, 1.0, 0.0, 1.0, 0.0, 0.0, 0.0, 0.0, 1.0, 0.0, 0.0, 0.0, 0.0, 0.0, 0.0, 0.0, 0.0, 0.0, 1.0, 1.0, 0.0, 0.0, 0.0, 1.0, 1.0, 0.0, 0.0, 1.0, 0.0, 0.0, 1.0, 0.0, 0.0, 0.0, 0.0, 1.0, 1.0, 0.0, 0.0, 0.0, 0.0, 0.0, 1.0, 0.0, 0.0, 0.0, 1.0, 0.0, 0.0, 0.0, 0.0, 1.0, 0.0, 0.0, 0.0, 1.0, 0.0, 0.0, 0.0, 0.0, 0.0, 0.0, 0.0, 0.0, 0.0, 1.0, 0.0, 0.0, 1.0, 1.0, 0.0, 0.0, 0.0, 1.0, 1.0, 1.0, 0.0, 0.0, 1.0, 0.0, 0.0, 0.0, 0.0, 1.0, 1.0, 1.0, 0.0, 0.0, 0.0, 0.0, 0.0, 0.0, 0.0, 0.0, 1.0, 0.0, 0.0, 1.0, 1.0, 0.0, 1.0, 0.0, 0.0, 1.0, 1.0, 1.0, 1.0, 0.0, 0.0, 1.0, 0.0, 0.0, 0.0, 0.0, 1.0, 0.0, 1.0, 0.0, 0.0, 1.0, 0.0, 1.0, 1.0, 1.0, 0.0, 1.0, 1.0, 0.0, 1.0, 0.0, 0.0, 1.0, 1.0, 1.0, 0.0, 0.0, 0.0, 0.0, 1.0, 0.0, 1.0, 0.0, 1.0, 0.0, 0.0, 1.0]\n",
      "Confusion matrix: \n",
      "\t 1 \t 0\n",
      "1  \t193\t44\n",
      "0  \t9\t319\n",
      "False positive rate:  0.12121212121212122\n",
      "accuracy for  0 is:  90.61946902654867\n"
     ]
    },
    {
     "data": {
      "image/png": "[encoded data removed]",
      "text/plain": [
       "<Figure size 432x288 with 1 Axes>"
      ]
     },
     "metadata": {
      "needs_background": "light"
     },
     "output_type": "display_data"
    },
    {
     "name": "stdout",
     "output_type": "stream",
     "text": [
      "[1 0 0 0 0 0 0 1 1 0 1 0 0 1 1 0 0 0 1 1 0 0 1 0 0 1 1 0 1 1 0 1 0 0 0 1 0\n",
      " 0 0 0 1 1 1 0 0 0 0 1 0 0 0 0 0 1 0 1 0 0 1 1 0 1 1 0 0 0 1 0 0 0 0 1 0 0\n",
      " 0 1 1 0 1 0 0 0 1 0 1 1 0 0 0 0 0 0 0 0 0 1 0 0 1 0 1 1 1 1 1 0 0 1 0 0 0\n",
      " 1 0 1 1 1 0 0 1 0 0 1 0 0 1 1 0 0 0 1 1 1 1 1 0 1 0 1 0 1 1 1 1 1 0 0 0 0\n",
      " 0 0 1 0 0 0 0 0 0 1 1 0 0 0 1 1 1 0 1 0 0 0 0 0 1 0 0 1 1 0 1 1 0 1 0 1 1\n",
      " 0 0 0 1 1 0 0 0 1 0 1 1 0 0 0 0 0 0 0 0 0 0 0 0 0 0 1 0 0 0 0 0 0 0 0 1 0\n",
      " 0 0 1 1 0 0 0 1 0 0 1 1 0 0 1 0 1 0 1 1 0 0 0 0 0 0 0 1 1 1 1 1 1 0 0 0 0\n",
      " 0 1 0 0 0 0 0 1 0 1 0 0 0 1 1 1 1 1 1 0 0 0 1 0 0 0 0 1 0 1 1 1 1 0 1 0 1\n",
      " 1 1 0 1 0 1 0 1 1 0 1 1 1 0 0 0 0 1 0 0 1 1 1 0 1 0 0 0 0 1 1 1 0 1 0 1 0\n",
      " 0 1 1 0 0 0 0 1 0 0 0 0 0 0 1 0 0 0 0 1 0 1 1 1 0 1 0 1 0 0 0 1 1 1 0 0 0\n",
      " 1 0 1 1 0 0 1 1 0 0 0 1 1 0 1 0 1 1 1 1 0 1 1 1 1 0 0 1 0 1 0 0 0 1 0 0 1\n",
      " 0 1 1 1 1 0 0 0 0 1 0 1 0 1 0 1 0 0 1 0 1 0 0 0 0 0 0 0 0 0 1 1 0 0 0 1 1\n",
      " 0 0 1 0 0 1 0 0 0 0 0 0 0 1 0 1 0 0 1 0 0 1 0 0 0 0 1 0 0 0 1 0 0 0 0 0 0\n",
      " 0 0 0 1 0 0 1 1 0 0 0 1 1 1 0 0 1 0 0 0 0 0 1 1 0 0 0 0 0 0 0 0 1 0 0 1 1\n",
      " 0 1 1 0 1 1 1 1 0 0 1 0 1 0 0 1 0 1 0 0 1 0 1 1 1 0 1 1 0 1 0 0 1 1 1 0 0\n",
      " 0 0 1 0 1 1 1 1 0 1] [1.0, 0.0, 0.0, 0.0, 0.0, 0.0, 0.0, 1.0, 1.0, 0.0, 1.0, 0.0, 0.0, 0.0, 1.0, 0.0, 0.0, 0.0, 1.0, 1.0, 0.0, 0.0, 1.0, 0.0, 0.0, 1.0, 1.0, 0.0, 0.0, 1.0, 0.0, 0.0, 0.0, 0.0, 0.0, 1.0, 0.0, 0.0, 0.0, 0.0, 1.0, 1.0, 1.0, 0.0, 0.0, 0.0, 0.0, 1.0, 0.0, 0.0, 0.0, 0.0, 0.0, 1.0, 0.0, 1.0, 0.0, 0.0, 0.0, 1.0, 0.0, 0.0, 1.0, 0.0, 0.0, 0.0, 1.0, 0.0, 0.0, 0.0, 0.0, 1.0, 0.0, 0.0, 0.0, 0.0, 1.0, 0.0, 1.0, 0.0, 0.0, 0.0, 1.0, 0.0, 0.0, 1.0, 0.0, 1.0, 0.0, 0.0, 0.0, 1.0, 0.0, 0.0, 0.0, 1.0, 0.0, 0.0, 1.0, 0.0, 0.0, 0.0, 1.0, 1.0, 0.0, 0.0, 0.0, 1.0, 0.0, 0.0, 0.0, 1.0, 0.0, 1.0, 1.0, 0.0, 0.0, 0.0, 1.0, 0.0, 0.0, 1.0, 0.0, 0.0, 1.0, 1.0, 0.0, 0.0, 0.0, 1.0, 0.0, 0.0, 1.0, 1.0, 0.0, 1.0, 0.0, 1.0, 0.0, 1.0, 1.0, 1.0, 1.0, 1.0, 0.0, 0.0, 0.0, 0.0, 0.0, 0.0, 1.0, 0.0, 0.0, 0.0, 0.0, 0.0, 0.0, 1.0, 1.0, 0.0, 0.0, 0.0, 0.0, 1.0, 1.0, 1.0, 1.0, 0.0, 0.0, 0.0, 0.0, 0.0, 1.0, 0.0, 0.0, 1.0, 1.0, 0.0, 1.0, 1.0, 0.0, 1.0, 0.0, 1.0, 0.0, 0.0, 0.0, 0.0, 1.0, 0.0, 0.0, 0.0, 0.0, 1.0, 0.0, 1.0, 1.0, 0.0, 0.0, 0.0, 0.0, 0.0, 0.0, 0.0, 0.0, 0.0, 0.0, 0.0, 0.0, 0.0, 0.0, 1.0, 0.0, 0.0, 0.0, 0.0, 0.0, 0.0, 0.0, 0.0, 1.0, 0.0, 0.0, 0.0, 1.0, 1.0, 0.0, 0.0, 0.0, 0.0, 0.0, 0.0, 0.0, 1.0, 0.0, 0.0, 1.0, 0.0, 1.0, 0.0, 1.0, 1.0, 0.0, 0.0, 0.0, 0.0, 0.0, 0.0, 0.0, 1.0, 1.0, 0.0, 1.0, 1.0, 1.0, 0.0, 0.0, 0.0, 0.0, 0.0, 0.0, 0.0, 0.0, 0.0, 1.0, 0.0, 1.0, 0.0, 1.0, 0.0, 0.0, 0.0, 1.0, 1.0, 1.0, 0.0, 1.0, 1.0, 0.0, 0.0, 0.0, 1.0, 0.0, 0.0, 0.0, 1.0, 1.0, 0.0, 1.0, 0.0, 1.0, 0.0, 0.0, 0.0, 0.0, 1.0, 1.0, 1.0, 0.0, 1.0, 0.0, 1.0, 0.0, 0.0, 1.0, 0.0, 1.0, 1.0, 1.0, 1.0, 0.0, 0.0, 0.0, 1.0, 0.0, 0.0, 1.0, 1.0, 1.0, 0.0, 1.0, 0.0, 0.0, 0.0, 0.0, 1.0, 1.0, 1.0, 0.0, 1.0, 0.0, 0.0, 0.0, 0.0, 1.0, 1.0, 0.0, 0.0, 0.0, 0.0, 1.0, 0.0, 0.0, 0.0, 0.0, 0.0, 0.0, 1.0, 0.0, 0.0, 0.0, 0.0, 1.0, 0.0, 1.0, 1.0, 1.0, 0.0, 0.0, 0.0, 1.0, 0.0, 0.0, 0.0, 0.0, 0.0, 1.0, 0.0, 0.0, 0.0, 1.0, 0.0, 1.0, 1.0, 0.0, 0.0, 0.0, 0.0, 0.0, 0.0, 0.0, 1.0, 1.0, 0.0, 1.0, 0.0, 0.0, 1.0, 1.0, 1.0, 0.0, 1.0, 1.0, 1.0, 1.0, 0.0, 0.0, 1.0, 0.0, 0.0, 0.0, 0.0, 0.0, 1.0, 0.0, 0.0, 0.0, 0.0, 1.0, 1.0, 1.0, 1.0, 0.0, 0.0, 0.0, 0.0, 0.0, 0.0, 1.0, 0.0, 1.0, 0.0, 1.0, 0.0, 0.0, 0.0, 0.0, 1.0, 0.0, 0.0, 0.0, 0.0, 0.0, 0.0, 0.0, 0.0, 0.0, 1.0, 1.0, 0.0, 0.0, 0.0, 1.0, 1.0, 0.0, 0.0, 1.0, 0.0, 0.0, 1.0, 0.0, 0.0, 0.0, 0.0, 1.0, 1.0, 0.0, 0.0, 0.0, 0.0, 0.0, 1.0, 0.0, 0.0, 0.0, 1.0, 0.0, 0.0, 0.0, 0.0, 1.0, 0.0, 0.0, 0.0, 1.0, 0.0, 0.0, 0.0, 0.0, 0.0, 0.0, 0.0, 0.0, 0.0, 1.0, 0.0, 0.0, 1.0, 1.0, 0.0, 0.0, 0.0, 1.0, 1.0, 1.0, 0.0, 0.0, 1.0, 0.0, 0.0, 0.0, 0.0, 1.0, 1.0, 1.0, 0.0, 0.0, 0.0, 0.0, 0.0, 0.0, 0.0, 0.0, 1.0, 0.0, 0.0, 1.0, 1.0, 0.0, 1.0, 0.0, 0.0, 1.0, 1.0, 1.0, 1.0, 0.0, 0.0, 1.0, 0.0, 0.0, 0.0, 0.0, 1.0, 0.0, 1.0, 0.0, 0.0, 1.0, 0.0, 1.0, 1.0, 1.0, 0.0, 1.0, 1.0, 0.0, 1.0, 0.0, 0.0, 1.0, 1.0, 1.0, 0.0, 0.0, 0.0, 0.0, 1.0, 0.0, 1.0, 0.0, 1.0, 0.0, 0.0, 1.0]\n",
      "Confusion matrix: \n",
      "\t 1 \t 0\n",
      "1  \t184\t43\n",
      "0  \t10\t328\n",
      "False positive rate:  0.11590296495956873\n",
      "accuracy for  1 is:  90.61946902654867\n"
     ]
    },
    {
     "data": {
      "image/png": "[encoded data removed]",
      "text/plain": [
       "<Figure size 432x288 with 1 Axes>"
      ]
     },
     "metadata": {
      "needs_background": "light"
     },
     "output_type": "display_data"
    },
    {
     "name": "stdout",
     "output_type": "stream",
     "text": [
      "[1 0 0 0 0 0 0 1 1 0 1 0 0 1 1 0 0 0 1 1 0 0 1 0 0 1 1 0 1 1 0 1 0 0 0 1 0\n",
      " 0 0 0 1 1 1 0 0 0 0 1 0 0 0 0 0 1 0 1 0 0 1 1 0 1 1 0 0 0 1 0 0 0 0 1 0 0\n",
      " 0 1 1 0 1 0 0 0 1 0 1 1 0 0 0 0 0 0 0 0 0 1 0 0 1 0 1 1 1 1 1 0 0 1 0 0 0\n",
      " 1 0 1 0 0 0 1 0 1 1 0 1 1 1 0 0 1 1 0 0 0 1 0 1 0 1 1 1 0 1 0 0 0 0 0 1 0\n",
      " 1 1 0 0 0 0 1 0 0 0 1 0 0 0 0 0 0 0 0 0 1 0 1 0 1 0 0 0 1 1 0 0 0 1 0 1 0\n",
      " 1 0 1 0 1 1 0 1 1 0 0 0 1 1 1 0 1 0 0 0 1 0 0 1 0 1 1 1 1 1 1 1 0 1 0 0 0\n",
      " 0 0 0 0 0 0 0 1 0 0 1 1 0 0 1 0 1 0 1 1 0 0 0 0 1 0 0 1 1 1 1 1 1 0 0 0 0\n",
      " 0 1 0 0 0 0 0 1 0 1 0 0 0 1 1 1 1 1 1 0 0 0 1 0 0 0 0 1 0 1 1 1 1 0 1 0 1\n",
      " 1 1 0 1 0 1 0 1 1 0 1 1 1 0 0 0 0 1 0 0 1 1 1 0 1 0 0 0 0 1 1 1 0 1 0 1 0\n",
      " 0 1 1 0 0 0 0 1 0 0 0 0 0 0 1 0 0 0 0 1 0 1 1 1 0 1 0 1 0 0 0 1 1 1 0 0 0\n",
      " 1 0 1 1 0 0 1 1 0 0 0 1 1 0 1 0 1 1 1 1 0 1 1 1 1 0 0 1 0 1 0 0 0 1 0 0 1\n",
      " 0 1 1 1 1 0 0 0 0 1 0 1 0 1 0 1 0 0 1 0 1 0 0 0 0 0 0 0 0 0 1 1 0 0 0 1 1\n",
      " 0 0 1 0 0 1 0 0 0 0 0 0 0 1 0 1 0 0 1 0 0 1 0 0 0 0 1 0 0 0 1 0 0 0 0 0 0\n",
      " 0 0 0 1 0 0 1 1 0 0 0 1 1 1 0 0 1 0 0 0 0 0 1 1 0 0 0 0 0 0 0 0 1 0 0 1 1\n",
      " 0 1 1 0 1 1 1 1 0 0 1 0 1 0 0 1 0 1 0 0 1 0 1 1 1 0 1 1 0 1 0 0 1 1 1 0 0\n",
      " 0 0 1 0 1 1 1 1 0 1] [1.0, 0.0, 0.0, 0.0, 0.0, 0.0, 0.0, 1.0, 1.0, 0.0, 1.0, 0.0, 0.0, 0.0, 1.0, 0.0, 0.0, 0.0, 1.0, 1.0, 0.0, 0.0, 1.0, 0.0, 0.0, 1.0, 1.0, 0.0, 0.0, 1.0, 0.0, 0.0, 0.0, 0.0, 0.0, 1.0, 0.0, 0.0, 0.0, 0.0, 1.0, 1.0, 1.0, 0.0, 0.0, 0.0, 0.0, 1.0, 0.0, 0.0, 0.0, 0.0, 0.0, 1.0, 0.0, 1.0, 0.0, 0.0, 0.0, 1.0, 0.0, 0.0, 1.0, 0.0, 0.0, 0.0, 1.0, 0.0, 0.0, 0.0, 0.0, 1.0, 0.0, 0.0, 0.0, 0.0, 1.0, 0.0, 1.0, 0.0, 0.0, 0.0, 1.0, 0.0, 0.0, 1.0, 0.0, 1.0, 0.0, 0.0, 0.0, 1.0, 0.0, 0.0, 0.0, 1.0, 0.0, 0.0, 1.0, 0.0, 0.0, 0.0, 1.0, 1.0, 0.0, 0.0, 0.0, 1.0, 0.0, 0.0, 0.0, 1.0, 0.0, 1.0, 0.0, 0.0, 0.0, 0.0, 0.0, 1.0, 1.0, 0.0, 1.0, 1.0, 1.0, 0.0, 0.0, 0.0, 1.0, 0.0, 0.0, 0.0, 1.0, 0.0, 1.0, 0.0, 1.0, 1.0, 1.0, 0.0, 1.0, 0.0, 0.0, 0.0, 0.0, 0.0, 1.0, 0.0, 1.0, 1.0, 0.0, 0.0, 0.0, 0.0, 1.0, 0.0, 0.0, 0.0, 1.0, 0.0, 0.0, 0.0, 0.0, 0.0, 0.0, 0.0, 0.0, 0.0, 1.0, 1.0, 0.0, 0.0, 1.0, 0.0, 0.0, 0.0, 1.0, 1.0, 0.0, 0.0, 0.0, 1.0, 0.0, 1.0, 0.0, 1.0, 0.0, 1.0, 0.0, 1.0, 0.0, 0.0, 1.0, 1.0, 0.0, 0.0, 0.0, 1.0, 1.0, 1.0, 0.0, 1.0, 0.0, 0.0, 0.0, 0.0, 1.0, 0.0, 1.0, 0.0, 1.0, 1.0, 1.0, 1.0, 1.0, 0.0, 1.0, 0.0, 0.0, 0.0, 0.0, 0.0, 0.0, 0.0, 0.0, 0.0, 0.0, 0.0, 0.0, 0.0, 0.0, 0.0, 0.0, 1.0, 0.0, 0.0, 1.0, 0.0, 1.0, 0.0, 1.0, 1.0, 0.0, 0.0, 0.0, 0.0, 0.0, 0.0, 0.0, 1.0, 1.0, 0.0, 1.0, 1.0, 1.0, 0.0, 0.0, 0.0, 0.0, 0.0, 0.0, 0.0, 0.0, 0.0, 1.0, 0.0, 1.0, 0.0, 1.0, 0.0, 0.0, 0.0, 1.0, 1.0, 1.0, 0.0, 1.0, 1.0, 0.0, 0.0, 0.0, 1.0, 0.0, 0.0, 0.0, 1.0, 1.0, 0.0, 1.0, 0.0, 1.0, 0.0, 0.0, 0.0, 0.0, 1.0, 1.0, 1.0, 0.0, 1.0, 0.0, 1.0, 0.0, 0.0, 1.0, 0.0, 1.0, 1.0, 1.0, 1.0, 0.0, 0.0, 0.0, 1.0, 0.0, 0.0, 1.0, 1.0, 1.0, 0.0, 1.0, 0.0, 0.0, 0.0, 0.0, 1.0, 1.0, 1.0, 0.0, 1.0, 0.0, 0.0, 0.0, 0.0, 1.0, 1.0, 0.0, 0.0, 0.0, 0.0, 1.0, 0.0, 0.0, 0.0, 0.0, 0.0, 0.0, 1.0, 0.0, 0.0, 0.0, 0.0, 1.0, 0.0, 1.0, 1.0, 1.0, 0.0, 0.0, 0.0, 1.0, 0.0, 0.0, 0.0, 0.0, 0.0, 1.0, 0.0, 0.0, 0.0, 1.0, 0.0, 1.0, 1.0, 0.0, 0.0, 0.0, 0.0, 0.0, 0.0, 0.0, 1.0, 1.0, 0.0, 1.0, 0.0, 0.0, 1.0, 1.0, 1.0, 0.0, 1.0, 1.0, 1.0, 1.0, 0.0, 0.0, 1.0, 0.0, 0.0, 0.0, 0.0, 0.0, 1.0, 0.0, 0.0, 0.0, 0.0, 1.0, 1.0, 1.0, 1.0, 0.0, 0.0, 0.0, 0.0, 0.0, 0.0, 1.0, 0.0, 1.0, 0.0, 1.0, 0.0, 0.0, 0.0, 0.0, 1.0, 0.0, 0.0, 0.0, 0.0, 0.0, 0.0, 0.0, 0.0, 0.0, 1.0, 1.0, 0.0, 0.0, 0.0, 1.0, 1.0, 0.0, 0.0, 1.0, 0.0, 0.0, 1.0, 0.0, 0.0, 0.0, 0.0, 1.0, 1.0, 0.0, 0.0, 0.0, 0.0, 0.0, 1.0, 0.0, 0.0, 0.0, 1.0, 0.0, 0.0, 0.0, 0.0, 1.0, 0.0, 0.0, 0.0, 1.0, 0.0, 0.0, 0.0, 0.0, 0.0, 0.0, 0.0, 0.0, 0.0, 1.0, 0.0, 0.0, 1.0, 1.0, 0.0, 0.0, 0.0, 1.0, 1.0, 1.0, 0.0, 0.0, 1.0, 0.0, 0.0, 0.0, 0.0, 1.0, 1.0, 1.0, 0.0, 0.0, 0.0, 0.0, 0.0, 0.0, 0.0, 0.0, 1.0, 0.0, 0.0, 1.0, 1.0, 0.0, 1.0, 0.0, 0.0, 1.0, 1.0, 1.0, 1.0, 0.0, 0.0, 1.0, 0.0, 0.0, 0.0, 0.0, 1.0, 0.0, 1.0, 0.0, 0.0, 1.0, 0.0, 1.0, 1.0, 1.0, 0.0, 1.0, 1.0, 0.0, 1.0, 0.0, 0.0, 1.0, 1.0, 1.0, 0.0, 0.0, 0.0, 0.0, 1.0, 0.0, 1.0, 0.0, 1.0, 0.0, 0.0, 1.0]\n",
      "Confusion matrix: \n",
      "\t 1 \t 0\n",
      "1  \t187\t45\n",
      "0  \t11\t322\n",
      "False positive rate:  0.1226158038147139\n",
      "accuracy for  2 is:  90.08849557522124\n"
     ]
    },
    {
     "data": {
      "image/png": "[encoded data removed]",
      "text/plain": [
       "<Figure size 432x288 with 1 Axes>"
      ]
     },
     "metadata": {
      "needs_background": "light"
     },
     "output_type": "display_data"
    },
    {
     "name": "stdout",
     "output_type": "stream",
     "text": [
      "[1 0 0 0 0 0 0 1 1 0 1 0 0 1 1 0 0 0 1 1 0 0 1 0 0 1 1 0 1 1 0 1 0 0 0 1 0\n",
      " 0 0 0 1 1 1 0 0 0 0 1 0 0 0 0 0 1 0 1 0 0 0 1 0 0 1 0 0 0 1 0 0 0 0 1 0 0\n",
      " 0 1 1 0 1 0 0 0 1 0 0 1 0 0 0 0 0 0 0 0 0 1 0 0 1 0 1 1 1 1 1 0 0 1 0 0 0\n",
      " 1 0 1 0 0 0 1 0 1 1 0 1 1 1 0 0 1 1 0 0 0 1 0 1 0 1 1 1 0 1 0 0 0 0 0 1 0\n",
      " 1 1 0 0 0 0 1 0 0 0 1 0 0 0 0 0 0 0 0 0 1 0 1 0 1 0 0 0 1 1 0 0 0 1 0 1 0\n",
      " 1 0 1 0 1 0 0 1 1 0 0 0 1 1 1 0 1 0 0 0 1 0 0 1 0 1 1 1 1 1 0 1 0 1 0 0 0\n",
      " 0 0 0 0 1 1 0 0 0 1 0 0 1 0 0 1 1 0 0 0 1 1 1 1 1 0 1 0 1 0 1 1 1 1 1 0 0\n",
      " 0 0 0 0 1 0 0 0 0 0 0 1 1 0 0 0 1 1 1 0 1 0 0 0 0 0 1 0 0 1 1 0 1 1 0 1 0\n",
      " 1 0 0 0 0 1 1 0 0 0 1 0 1 1 0 0 0 0 0 0 0 0 0 0 0 0 0 0 1 0 0 0 0 0 0 0 0\n",
      " 1 0 0 0 1 1 0 1 0 0 0 0 0 0 1 0 0 0 0 1 0 1 1 1 0 1 0 1 0 0 0 1 0 1 0 0 0\n",
      " 1 0 1 1 0 0 1 1 0 0 0 1 1 0 1 0 0 1 1 1 0 1 1 1 1 0 0 1 0 1 0 0 0 1 0 0 0\n",
      " 0 1 1 1 1 0 0 0 0 0 0 1 0 1 0 1 0 0 1 0 1 0 0 0 0 0 0 0 0 0 1 1 0 0 0 1 1\n",
      " 0 0 1 0 0 1 0 0 0 0 1 0 0 0 0 1 0 0 0 0 0 1 0 0 0 0 1 0 0 0 1 0 0 0 0 0 0\n",
      " 0 0 0 1 0 0 1 1 0 0 0 1 1 1 0 0 1 0 0 0 0 0 1 1 0 0 0 0 0 0 0 0 1 0 0 1 1\n",
      " 0 1 1 0 1 1 1 1 0 0 1 0 1 0 0 1 0 1 0 0 1 0 1 1 1 0 1 1 0 1 0 0 1 1 1 0 0\n",
      " 0 0 1 0 1 1 1 1 0 1] [1.0, 0.0, 0.0, 0.0, 0.0, 0.0, 0.0, 1.0, 1.0, 0.0, 1.0, 0.0, 0.0, 0.0, 1.0, 0.0, 0.0, 0.0, 1.0, 1.0, 0.0, 0.0, 1.0, 0.0, 0.0, 1.0, 1.0, 0.0, 0.0, 1.0, 0.0, 0.0, 0.0, 0.0, 0.0, 1.0, 0.0, 0.0, 0.0, 0.0, 1.0, 1.0, 1.0, 0.0, 0.0, 0.0, 0.0, 1.0, 0.0, 0.0, 0.0, 0.0, 0.0, 1.0, 0.0, 1.0, 0.0, 0.0, 0.0, 1.0, 0.0, 0.0, 1.0, 0.0, 0.0, 0.0, 1.0, 0.0, 0.0, 0.0, 0.0, 1.0, 0.0, 0.0, 0.0, 0.0, 1.0, 0.0, 1.0, 0.0, 0.0, 0.0, 1.0, 0.0, 0.0, 1.0, 0.0, 1.0, 0.0, 0.0, 0.0, 1.0, 0.0, 0.0, 0.0, 1.0, 0.0, 0.0, 1.0, 0.0, 0.0, 0.0, 1.0, 1.0, 0.0, 0.0, 0.0, 1.0, 0.0, 0.0, 0.0, 1.0, 0.0, 1.0, 0.0, 0.0, 0.0, 0.0, 0.0, 1.0, 1.0, 0.0, 1.0, 1.0, 1.0, 0.0, 0.0, 0.0, 1.0, 0.0, 0.0, 0.0, 1.0, 0.0, 1.0, 0.0, 1.0, 1.0, 1.0, 0.0, 1.0, 0.0, 0.0, 0.0, 0.0, 0.0, 1.0, 0.0, 1.0, 1.0, 0.0, 0.0, 0.0, 0.0, 1.0, 0.0, 0.0, 0.0, 1.0, 0.0, 0.0, 0.0, 0.0, 0.0, 0.0, 0.0, 0.0, 0.0, 1.0, 1.0, 0.0, 0.0, 1.0, 0.0, 0.0, 0.0, 1.0, 1.0, 0.0, 0.0, 0.0, 1.0, 0.0, 1.0, 0.0, 1.0, 0.0, 1.0, 0.0, 1.0, 0.0, 0.0, 1.0, 1.0, 0.0, 0.0, 0.0, 1.0, 1.0, 1.0, 0.0, 1.0, 0.0, 0.0, 0.0, 0.0, 1.0, 0.0, 1.0, 0.0, 1.0, 1.0, 1.0, 1.0, 1.0, 0.0, 1.0, 0.0, 0.0, 0.0, 0.0, 0.0, 0.0, 0.0, 0.0, 0.0, 1.0, 1.0, 0.0, 0.0, 0.0, 1.0, 0.0, 0.0, 1.0, 0.0, 0.0, 1.0, 1.0, 0.0, 0.0, 0.0, 1.0, 0.0, 0.0, 1.0, 1.0, 0.0, 1.0, 0.0, 1.0, 0.0, 1.0, 1.0, 1.0, 1.0, 1.0, 0.0, 0.0, 0.0, 0.0, 0.0, 0.0, 1.0, 0.0, 0.0, 0.0, 0.0, 0.0, 0.0, 1.0, 1.0, 0.0, 0.0, 0.0, 0.0, 1.0, 1.0, 1.0, 1.0, 0.0, 0.0, 0.0, 0.0, 0.0, 1.0, 0.0, 0.0, 1.0, 1.0, 0.0, 1.0, 1.0, 0.0, 1.0, 0.0, 1.0, 0.0, 0.0, 0.0, 0.0, 1.0, 0.0, 0.0, 0.0, 0.0, 1.0, 0.0, 1.0, 1.0, 0.0, 0.0, 0.0, 0.0, 0.0, 0.0, 0.0, 0.0, 0.0, 0.0, 0.0, 0.0, 0.0, 0.0, 1.0, 0.0, 0.0, 0.0, 0.0, 0.0, 0.0, 0.0, 0.0, 1.0, 0.0, 0.0, 0.0, 1.0, 1.0, 0.0, 1.0, 0.0, 0.0, 0.0, 0.0, 0.0, 0.0, 1.0, 0.0, 0.0, 0.0, 0.0, 1.0, 0.0, 1.0, 1.0, 1.0, 0.0, 0.0, 0.0, 1.0, 0.0, 0.0, 0.0, 0.0, 0.0, 1.0, 0.0, 0.0, 0.0, 1.0, 0.0, 1.0, 1.0, 0.0, 0.0, 0.0, 0.0, 0.0, 0.0, 0.0, 1.0, 1.0, 0.0, 1.0, 0.0, 0.0, 1.0, 1.0, 1.0, 0.0, 1.0, 1.0, 1.0, 1.0, 0.0, 0.0, 1.0, 0.0, 0.0, 0.0, 0.0, 0.0, 1.0, 0.0, 0.0, 0.0, 0.0, 1.0, 1.0, 1.0, 1.0, 0.0, 0.0, 0.0, 0.0, 0.0, 0.0, 1.0, 0.0, 1.0, 0.0, 1.0, 0.0, 0.0, 0.0, 0.0, 1.0, 0.0, 0.0, 0.0, 0.0, 0.0, 0.0, 0.0, 0.0, 0.0, 1.0, 1.0, 0.0, 0.0, 0.0, 1.0, 1.0, 0.0, 0.0, 1.0, 0.0, 0.0, 1.0, 0.0, 0.0, 0.0, 0.0, 1.0, 1.0, 0.0, 0.0, 0.0, 0.0, 0.0, 1.0, 0.0, 0.0, 0.0, 1.0, 0.0, 0.0, 0.0, 0.0, 1.0, 0.0, 0.0, 0.0, 1.0, 0.0, 0.0, 0.0, 0.0, 0.0, 0.0, 0.0, 0.0, 0.0, 1.0, 0.0, 0.0, 1.0, 1.0, 0.0, 0.0, 0.0, 1.0, 1.0, 1.0, 0.0, 0.0, 1.0, 0.0, 0.0, 0.0, 0.0, 1.0, 1.0, 1.0, 0.0, 0.0, 0.0, 0.0, 0.0, 0.0, 0.0, 0.0, 1.0, 0.0, 0.0, 1.0, 1.0, 0.0, 1.0, 0.0, 0.0, 1.0, 1.0, 1.0, 1.0, 0.0, 0.0, 1.0, 0.0, 0.0, 0.0, 0.0, 1.0, 0.0, 1.0, 0.0, 0.0, 1.0, 0.0, 1.0, 1.0, 1.0, 0.0, 1.0, 1.0, 0.0, 1.0, 0.0, 0.0, 1.0, 1.0, 1.0, 0.0, 0.0, 0.0, 0.0, 1.0, 0.0, 1.0, 0.0, 1.0, 0.0, 0.0, 1.0]\n",
      "Confusion matrix: \n",
      "\t 1 \t 0\n",
      "1  \t184\t27\n",
      "0  \t8\t346\n",
      "False positive rate:  0.07238605898123325\n",
      "accuracy for  3 is:  93.80530973451327\n"
     ]
    },
    {
     "data": {
      "image/png": "[encoded data removed]",
      "text/plain": [
       "<Figure size 432x288 with 1 Axes>"
      ]
     },
     "metadata": {
      "needs_background": "light"
     },
     "output_type": "display_data"
    },
    {
     "name": "stdout",
     "output_type": "stream",
     "text": [
      "[1 0 0 0 0 0 0 1 1 0 1 0 0 1 1 0 0 0 1 1 0 0 1 0 0 1 1 0 1 1 0 1 0 0 0 1 0\n",
      " 0 0 0 1 1 1 0 0 0 0 1 0 0 0 0 0 1 0 1 0 0 0 1 0 1 1 0 0 0 1 0 0 0 0 1 0 0\n",
      " 0 1 1 0 1 0 0 0 1 0 1 1 0 0 0 0 0 0 0 0 0 1 0 0 1 0 1 1 1 1 1 0 0 1 0 0 0\n",
      " 1 0 1 0 0 0 1 0 1 1 0 1 1 1 0 0 1 1 0 0 0 1 0 1 0 1 1 1 0 1 0 0 0 0 0 1 0\n",
      " 1 1 0 0 0 0 1 0 0 0 1 0 0 0 0 0 0 0 0 0 1 0 1 0 1 0 0 0 1 1 0 0 0 1 0 1 0\n",
      " 1 0 1 0 1 1 0 1 1 0 0 0 1 1 1 0 1 0 0 0 1 0 0 1 0 1 1 1 1 1 1 1 0 1 0 0 0\n",
      " 0 0 0 0 1 1 1 0 0 1 0 0 1 0 0 1 1 0 0 0 1 1 1 1 1 0 1 0 1 0 1 1 1 1 1 0 0\n",
      " 0 0 0 0 1 0 0 0 0 0 0 1 1 0 0 0 1 1 1 0 1 0 0 0 0 0 1 0 0 1 1 0 1 1 0 1 0\n",
      " 1 1 0 0 0 1 1 0 0 0 1 0 1 1 0 0 0 0 0 0 0 0 0 0 0 0 0 0 1 0 0 0 0 0 0 0 0\n",
      " 1 0 0 0 1 1 0 0 0 1 0 0 1 1 0 0 1 0 1 0 1 1 0 0 0 0 0 0 0 1 1 1 1 1 1 0 0\n",
      " 0 0 0 1 0 0 0 0 0 1 0 1 0 0 0 1 1 1 1 1 1 0 0 0 1 0 0 0 1 1 0 1 1 1 1 0 1\n",
      " 0 1 1 1 0 1 0 1 0 1 1 0 1 1 1 0 0 0 0 1 0 0 1 1 1 0 1 0 0 0 0 1 1 1 0 1 0\n",
      " 1 0 0 1 1 0 0 0 0 0 1 0 0 1 0 1 0 0 1 0 0 1 0 0 0 0 1 0 0 0 1 0 0 0 0 0 0\n",
      " 0 0 0 1 0 0 1 1 0 0 0 1 1 1 0 0 1 0 0 0 0 0 1 1 0 0 0 0 0 0 0 0 1 0 0 1 1\n",
      " 0 1 1 0 1 1 1 1 0 0 1 0 1 0 0 1 0 1 0 0 1 0 1 1 1 0 1 1 0 1 0 0 1 1 1 0 0\n",
      " 0 0 1 0 1 1 1 1 0 1] [1.0, 0.0, 0.0, 0.0, 0.0, 0.0, 0.0, 1.0, 1.0, 0.0, 1.0, 0.0, 0.0, 0.0, 1.0, 0.0, 0.0, 0.0, 1.0, 1.0, 0.0, 0.0, 1.0, 0.0, 0.0, 1.0, 1.0, 0.0, 0.0, 1.0, 0.0, 0.0, 0.0, 0.0, 0.0, 1.0, 0.0, 0.0, 0.0, 0.0, 1.0, 1.0, 1.0, 0.0, 0.0, 0.0, 0.0, 1.0, 0.0, 0.0, 0.0, 0.0, 0.0, 1.0, 0.0, 1.0, 0.0, 0.0, 0.0, 1.0, 0.0, 0.0, 1.0, 0.0, 0.0, 0.0, 1.0, 0.0, 0.0, 0.0, 0.0, 1.0, 0.0, 0.0, 0.0, 0.0, 1.0, 0.0, 1.0, 0.0, 0.0, 0.0, 1.0, 0.0, 0.0, 1.0, 0.0, 1.0, 0.0, 0.0, 0.0, 1.0, 0.0, 0.0, 0.0, 1.0, 0.0, 0.0, 1.0, 0.0, 0.0, 0.0, 1.0, 1.0, 0.0, 0.0, 0.0, 1.0, 0.0, 0.0, 0.0, 1.0, 0.0, 1.0, 0.0, 0.0, 0.0, 0.0, 0.0, 1.0, 1.0, 0.0, 1.0, 1.0, 1.0, 0.0, 0.0, 0.0, 1.0, 0.0, 0.0, 0.0, 1.0, 0.0, 1.0, 0.0, 1.0, 1.0, 1.0, 0.0, 1.0, 0.0, 0.0, 0.0, 0.0, 0.0, 1.0, 0.0, 1.0, 1.0, 0.0, 0.0, 0.0, 0.0, 1.0, 0.0, 0.0, 0.0, 1.0, 0.0, 0.0, 0.0, 0.0, 0.0, 0.0, 0.0, 0.0, 0.0, 1.0, 1.0, 0.0, 0.0, 1.0, 0.0, 0.0, 0.0, 1.0, 1.0, 0.0, 0.0, 0.0, 1.0, 0.0, 1.0, 0.0, 1.0, 0.0, 1.0, 0.0, 1.0, 0.0, 0.0, 1.0, 1.0, 0.0, 0.0, 0.0, 1.0, 1.0, 1.0, 0.0, 1.0, 0.0, 0.0, 0.0, 0.0, 1.0, 0.0, 1.0, 0.0, 1.0, 1.0, 1.0, 1.0, 1.0, 0.0, 1.0, 0.0, 0.0, 0.0, 0.0, 0.0, 0.0, 0.0, 0.0, 0.0, 1.0, 1.0, 0.0, 0.0, 0.0, 1.0, 0.0, 0.0, 1.0, 0.0, 0.0, 1.0, 1.0, 0.0, 0.0, 0.0, 1.0, 0.0, 0.0, 1.0, 1.0, 0.0, 1.0, 0.0, 1.0, 0.0, 1.0, 1.0, 1.0, 1.0, 1.0, 0.0, 0.0, 0.0, 0.0, 0.0, 0.0, 1.0, 0.0, 0.0, 0.0, 0.0, 0.0, 0.0, 1.0, 1.0, 0.0, 0.0, 0.0, 0.0, 1.0, 1.0, 1.0, 1.0, 0.0, 0.0, 0.0, 0.0, 0.0, 1.0, 0.0, 0.0, 1.0, 1.0, 0.0, 1.0, 1.0, 0.0, 1.0, 0.0, 1.0, 0.0, 0.0, 0.0, 0.0, 1.0, 0.0, 0.0, 0.0, 0.0, 1.0, 0.0, 1.0, 1.0, 0.0, 0.0, 0.0, 0.0, 0.0, 0.0, 0.0, 0.0, 0.0, 0.0, 0.0, 0.0, 0.0, 0.0, 1.0, 0.0, 0.0, 0.0, 0.0, 0.0, 0.0, 0.0, 0.0, 1.0, 0.0, 0.0, 0.0, 1.0, 1.0, 0.0, 0.0, 0.0, 0.0, 0.0, 0.0, 0.0, 1.0, 0.0, 0.0, 1.0, 0.0, 1.0, 0.0, 1.0, 1.0, 0.0, 0.0, 0.0, 0.0, 0.0, 0.0, 0.0, 1.0, 1.0, 0.0, 1.0, 1.0, 1.0, 0.0, 0.0, 0.0, 0.0, 0.0, 0.0, 0.0, 0.0, 0.0, 1.0, 0.0, 1.0, 0.0, 1.0, 0.0, 0.0, 0.0, 1.0, 1.0, 1.0, 0.0, 1.0, 1.0, 0.0, 0.0, 0.0, 1.0, 0.0, 0.0, 0.0, 1.0, 1.0, 0.0, 1.0, 0.0, 1.0, 0.0, 0.0, 0.0, 0.0, 1.0, 1.0, 1.0, 0.0, 1.0, 0.0, 1.0, 0.0, 0.0, 1.0, 0.0, 1.0, 1.0, 1.0, 1.0, 0.0, 0.0, 0.0, 1.0, 0.0, 0.0, 1.0, 1.0, 1.0, 0.0, 1.0, 0.0, 0.0, 0.0, 0.0, 1.0, 1.0, 1.0, 0.0, 1.0, 0.0, 0.0, 0.0, 0.0, 1.0, 1.0, 0.0, 0.0, 0.0, 0.0, 0.0, 1.0, 1.0, 0.0, 0.0, 0.0, 0.0, 0.0, 1.0, 0.0, 0.0, 0.0, 1.0, 0.0, 0.0, 0.0, 0.0, 1.0, 0.0, 0.0, 0.0, 1.0, 0.0, 0.0, 0.0, 0.0, 0.0, 0.0, 0.0, 0.0, 0.0, 1.0, 0.0, 0.0, 1.0, 1.0, 0.0, 0.0, 0.0, 1.0, 1.0, 1.0, 0.0, 0.0, 1.0, 0.0, 0.0, 0.0, 0.0, 1.0, 1.0, 1.0, 0.0, 0.0, 0.0, 0.0, 0.0, 0.0, 0.0, 0.0, 1.0, 0.0, 0.0, 1.0, 1.0, 0.0, 1.0, 0.0, 0.0, 1.0, 1.0, 1.0, 1.0, 0.0, 0.0, 1.0, 0.0, 0.0, 0.0, 0.0, 1.0, 0.0, 1.0, 0.0, 0.0, 1.0, 0.0, 1.0, 1.0, 1.0, 0.0, 1.0, 1.0, 0.0, 1.0, 0.0, 0.0, 1.0, 1.0, 1.0, 0.0, 0.0, 0.0, 0.0, 1.0, 0.0, 1.0, 0.0, 1.0, 0.0, 0.0, 1.0]\n",
      "Confusion matrix: \n",
      "\t 1 \t 0\n",
      "1  \t189\t39\n",
      "0  \t10\t327\n",
      "False positive rate:  0.10655737704918032\n",
      "accuracy for  4 is:  91.32743362831859\n"
     ]
    },
    {
     "data": {
      "image/png": "[encoded data removed]",
      "text/plain": [
       "<Figure size 432x288 with 1 Axes>"
      ]
     },
     "metadata": {
      "needs_background": "light"
     },
     "output_type": "display_data"
    },
    {
     "name": "stdout",
     "output_type": "stream",
     "text": [
      "[1 0 0 0 0 0 0 1 1 0 1 0 0 1 1 0 0 0 1 1 0 0 1 0 0 1 1 0 1 1 0 1 0 0 0 1 0\n",
      " 0 0 0 1 1 1 0 0 0 0 1 0 0 0 0 0 1 0 1 0 0 1 1 0 1 1 0 0 0 1 0 0 0 0 1 0 0\n",
      " 0 1 1 0 1 0 0 0 1 0 1 1 0 0 0 0 0 0 0 0 0 1 0 0 1 0 1 1 1 1 1 0 0 1 0 0 0\n",
      " 1 0 1 0 0 0 1 0 1 1 0 1 1 1 0 0 1 1 0 0 0 1 0 1 0 1 1 1 0 1 0 0 0 0 0 1 0\n",
      " 1 1 0 0 0 0 1 0 0 0 1 0 0 0 0 0 0 0 0 0 1 0 1 0 1 0 0 0 1 1 0 0 0 1 0 1 0\n",
      " 1 0 1 0 1 1 0 1 1 0 0 0 1 1 1 0 1 0 0 0 1 0 0 1 0 1 1 1 0 1 1 1 0 1 0 0 0\n",
      " 0 0 0 0 1 1 1 0 0 1 0 0 1 0 0 1 1 0 0 0 1 1 1 1 1 0 1 0 1 0 1 1 1 1 1 0 0\n",
      " 0 0 0 0 1 0 0 0 0 0 0 1 1 0 0 0 1 1 1 0 1 0 0 0 0 0 1 0 0 1 1 0 1 1 0 1 0\n",
      " 1 1 0 0 0 1 1 0 0 0 1 0 1 1 0 0 0 0 0 0 0 0 0 0 0 0 0 0 1 0 0 0 0 0 0 0 0\n",
      " 1 0 0 0 1 1 0 0 0 1 0 0 1 1 0 0 1 0 1 0 1 1 0 0 0 0 1 0 0 1 1 1 1 1 1 0 0\n",
      " 0 0 0 1 0 0 0 0 0 1 0 1 0 0 0 1 1 1 1 1 1 0 0 0 1 0 0 0 0 1 0 1 1 1 1 0 1\n",
      " 0 1 0 1 0 1 0 1 0 1 1 0 1 1 1 0 0 0 0 1 0 0 1 1 1 0 1 0 0 0 0 1 1 1 0 1 0\n",
      " 1 0 0 1 1 0 0 0 0 1 0 0 0 0 0 0 1 0 0 0 0 1 0 1 1 1 0 1 0 1 0 0 0 1 1 1 0\n",
      " 0 0 1 0 1 1 0 0 1 1 0 0 0 1 1 0 1 0 1 1 1 1 0 1 1 1 1 0 0 1 0 1 0 0 0 1 0\n",
      " 0 1 0 1 1 1 1 0 0 0 0 1 0 1 0 1 0 1 0 0 1 0 1 0 0 0 0 0 0 0 0 0 1 1 0 0 0\n",
      " 1 1 0 0 1 0 0 1 0 0] [1.0, 0.0, 0.0, 0.0, 0.0, 0.0, 0.0, 1.0, 1.0, 0.0, 1.0, 0.0, 0.0, 0.0, 1.0, 0.0, 0.0, 0.0, 1.0, 1.0, 0.0, 0.0, 1.0, 0.0, 0.0, 1.0, 1.0, 0.0, 0.0, 1.0, 0.0, 0.0, 0.0, 0.0, 0.0, 1.0, 0.0, 0.0, 0.0, 0.0, 1.0, 1.0, 1.0, 0.0, 0.0, 0.0, 0.0, 1.0, 0.0, 0.0, 0.0, 0.0, 0.0, 1.0, 0.0, 1.0, 0.0, 0.0, 0.0, 1.0, 0.0, 0.0, 1.0, 0.0, 0.0, 0.0, 1.0, 0.0, 0.0, 0.0, 0.0, 1.0, 0.0, 0.0, 0.0, 0.0, 1.0, 0.0, 1.0, 0.0, 0.0, 0.0, 1.0, 0.0, 0.0, 1.0, 0.0, 1.0, 0.0, 0.0, 0.0, 1.0, 0.0, 0.0, 0.0, 1.0, 0.0, 0.0, 1.0, 0.0, 0.0, 0.0, 1.0, 1.0, 0.0, 0.0, 0.0, 1.0, 0.0, 0.0, 0.0, 1.0, 0.0, 1.0, 0.0, 0.0, 0.0, 0.0, 0.0, 1.0, 1.0, 0.0, 1.0, 1.0, 1.0, 0.0, 0.0, 0.0, 1.0, 0.0, 0.0, 0.0, 1.0, 0.0, 1.0, 0.0, 1.0, 1.0, 1.0, 0.0, 1.0, 0.0, 0.0, 0.0, 0.0, 0.0, 1.0, 0.0, 1.0, 1.0, 0.0, 0.0, 0.0, 0.0, 1.0, 0.0, 0.0, 0.0, 1.0, 0.0, 0.0, 0.0, 0.0, 0.0, 0.0, 0.0, 0.0, 0.0, 1.0, 1.0, 0.0, 0.0, 1.0, 0.0, 0.0, 0.0, 1.0, 1.0, 0.0, 0.0, 0.0, 1.0, 0.0, 1.0, 0.0, 1.0, 0.0, 1.0, 0.0, 1.0, 0.0, 0.0, 1.0, 1.0, 0.0, 0.0, 0.0, 1.0, 1.0, 1.0, 0.0, 1.0, 0.0, 0.0, 0.0, 0.0, 1.0, 0.0, 1.0, 0.0, 1.0, 1.0, 1.0, 1.0, 1.0, 0.0, 1.0, 0.0, 0.0, 0.0, 0.0, 0.0, 0.0, 0.0, 0.0, 0.0, 1.0, 1.0, 0.0, 0.0, 0.0, 1.0, 0.0, 0.0, 1.0, 0.0, 0.0, 1.0, 1.0, 0.0, 0.0, 0.0, 1.0, 0.0, 0.0, 1.0, 1.0, 0.0, 1.0, 0.0, 1.0, 0.0, 1.0, 1.0, 1.0, 1.0, 1.0, 0.0, 0.0, 0.0, 0.0, 0.0, 0.0, 1.0, 0.0, 0.0, 0.0, 0.0, 0.0, 0.0, 1.0, 1.0, 0.0, 0.0, 0.0, 0.0, 1.0, 1.0, 1.0, 1.0, 0.0, 0.0, 0.0, 0.0, 0.0, 1.0, 0.0, 0.0, 1.0, 1.0, 0.0, 1.0, 1.0, 0.0, 1.0, 0.0, 1.0, 0.0, 0.0, 0.0, 0.0, 1.0, 0.0, 0.0, 0.0, 0.0, 1.0, 0.0, 1.0, 1.0, 0.0, 0.0, 0.0, 0.0, 0.0, 0.0, 0.0, 0.0, 0.0, 0.0, 0.0, 0.0, 0.0, 0.0, 1.0, 0.0, 0.0, 0.0, 0.0, 0.0, 0.0, 0.0, 0.0, 1.0, 0.0, 0.0, 0.0, 1.0, 1.0, 0.0, 0.0, 0.0, 0.0, 0.0, 0.0, 0.0, 1.0, 0.0, 0.0, 1.0, 0.0, 1.0, 0.0, 1.0, 1.0, 0.0, 0.0, 0.0, 0.0, 0.0, 0.0, 0.0, 1.0, 1.0, 0.0, 1.0, 1.0, 1.0, 0.0, 0.0, 0.0, 0.0, 0.0, 0.0, 0.0, 0.0, 0.0, 1.0, 0.0, 1.0, 0.0, 1.0, 0.0, 0.0, 0.0, 1.0, 1.0, 1.0, 0.0, 1.0, 1.0, 0.0, 0.0, 0.0, 1.0, 0.0, 0.0, 0.0, 1.0, 1.0, 0.0, 1.0, 0.0, 1.0, 0.0, 0.0, 0.0, 0.0, 1.0, 1.0, 1.0, 0.0, 1.0, 0.0, 1.0, 0.0, 0.0, 1.0, 0.0, 1.0, 1.0, 1.0, 1.0, 0.0, 0.0, 0.0, 1.0, 0.0, 0.0, 1.0, 1.0, 1.0, 0.0, 1.0, 0.0, 0.0, 0.0, 0.0, 1.0, 1.0, 1.0, 0.0, 1.0, 0.0, 0.0, 0.0, 0.0, 1.0, 1.0, 0.0, 0.0, 0.0, 0.0, 1.0, 0.0, 0.0, 0.0, 0.0, 0.0, 0.0, 1.0, 0.0, 0.0, 0.0, 0.0, 1.0, 0.0, 1.0, 1.0, 1.0, 0.0, 0.0, 0.0, 1.0, 0.0, 0.0, 0.0, 0.0, 0.0, 1.0, 0.0, 0.0, 0.0, 1.0, 0.0, 1.0, 1.0, 0.0, 0.0, 0.0, 0.0, 0.0, 0.0, 0.0, 1.0, 1.0, 0.0, 1.0, 0.0, 0.0, 1.0, 1.0, 1.0, 0.0, 1.0, 1.0, 1.0, 1.0, 0.0, 0.0, 1.0, 0.0, 0.0, 0.0, 0.0, 0.0, 1.0, 0.0, 0.0, 0.0, 0.0, 1.0, 1.0, 1.0, 1.0, 0.0, 0.0, 0.0, 0.0, 0.0, 0.0, 1.0, 0.0, 1.0, 0.0, 1.0, 0.0, 0.0, 0.0, 0.0, 1.0, 0.0, 0.0, 0.0, 0.0, 0.0, 0.0, 0.0, 0.0, 0.0, 1.0, 1.0, 0.0, 0.0, 0.0, 1.0, 1.0, 0.0, 0.0, 1.0, 0.0, 0.0, 1.0, 0.0, 0.0]\n",
      "Confusion matrix: \n",
      "\t 1 \t 0\n",
      "1  \t185\t44\n",
      "0  \t10\t326\n",
      "False positive rate:  0.11891891891891893\n",
      "accuracy for  5 is:  90.4424778761062\n"
     ]
    },
    {
     "data": {
      "image/png": "[encoded data removed]",
      "text/plain": [
       "<Figure size 432x288 with 1 Axes>"
      ]
     },
     "metadata": {
      "needs_background": "light"
     },
     "output_type": "display_data"
    },
    {
     "name": "stdout",
     "output_type": "stream",
     "text": [
      "In our case for the best model, we need lowest FPR (Which says that if someone has cancer i detected it as no cancer)\n",
      "The best model has: accuracy,fpr as (90.61946902654867, 0.11891891891891893)\n"
     ]
    }
   ],
   "source": [
    "#Logistic Regression\n",
    "bestsplit=[]\n",
    "logop=[]\n",
    "\n",
    "print(\"Logistic regression: \")\n",
    "for i in range(len(split_dataset)):\n",
    "    testdf=split_dataset[i]\n",
    "    traindf=[]\n",
    "    for j in range(len(split_dataset)):\n",
    "        if i!=j:\n",
    "            traindf.append(split_dataset[j])\n",
    "    \n",
    "    \n",
    "    temp=[]\n",
    "    for k in traindf:\n",
    "        for a in k:\n",
    "            temp.append(a)\n",
    "    \n",
    "    \n",
    "    traintemp=pd.DataFrame(temp)\n",
    "    traintemp.columns=[\"id\",\"Clump_Thickness\",\"Uniformity_of_Cell_Size\",\"Uniformity_of_Cell_Shape\",\"Marginal_Adhesion\",\"Single_Epithelial_Cell_Size\",\"Bare_Nuclei\",\"Bland_Chromatin\",\"Normal_Nucleoli\",\"Mitoses\",\"Class\"]\n",
    "\n",
    "    #print(list(traintemp.columns))\n",
    "    traindf=traintemp\n",
    "    \n",
    "    \n",
    "    testtemp=pd.DataFrame(testdf)\n",
    "    testtemp.columns=[\"id\",\"Clump_Thickness\",\"Uniformity_of_Cell_Size\",\"Uniformity_of_Cell_Shape\",\"Marginal_Adhesion\",\"Single_Epithelial_Cell_Size\",\"Bare_Nuclei\",\"Bland_Chromatin\",\"Normal_Nucleoli\",\"Mitoses\",\"Class\"]\n",
    "    testdf=traintemp   \n",
    "    \n",
    "    #Output column of the training dataset (train_df)\n",
    "    ytrain = traindf[[\"Class\"]]\n",
    "    #input columns of the training dataset (train_df)\n",
    "    xtrain = traindf[[\"id\",\"Clump_Thickness\",\"Uniformity_of_Cell_Size\",\"Uniformity_of_Cell_Shape\",\"Marginal_Adhesion\",\"Single_Epithelial_Cell_Size\",\"Bare_Nuclei\",\"Bland_Chromatin\",\"Normal_Nucleoli\",\"Mitoses\"]]\n",
    "\n",
    "    #output column of the testing dataset (test_df)\n",
    "    ytest = testdf[[\"Class\"]]\n",
    "    #input columns of the the testing dataset (test_df)\n",
    "    xtest = testdf[[\"id\",\"Clump_Thickness\",\"Uniformity_of_Cell_Size\",\"Uniformity_of_Cell_Shape\",\"Marginal_Adhesion\",\"Single_Epithelial_Cell_Size\",\"Bare_Nuclei\",\"Bland_Chromatin\",\"Normal_Nucleoli\",\"Mitoses\"]]\n",
    "\n",
    "    #Converting the datatype of all the input columns of training data to 'int' data type\n",
    "    xtrain_norm = xtrain.astype('int')\n",
    "    #Normalising the input data\n",
    "    xtrain_norm = normalize(xtrain_norm)\n",
    "\n",
    "    #Converting the datatype of all the output columns of training data to 'int' data type\n",
    "    ytrain_norm = ytrain.astype('int')\n",
    "    #normalising the output data\n",
    "    ytrain_norm = normalize(ytrain_norm)\n",
    "\n",
    "    #Converting the datatype of all the input columns of testing data to 'int' data type\n",
    "    xtest_norm = xtest.astype('int')\n",
    "    xtest_norm = normalize(xtest_norm)\n",
    "\n",
    "    #Converting the datatype of all the output columns of testing data to 'int' data type\n",
    "    ytest_norm = ytest.astype('int')\n",
    "    ytest_norm = normalize(ytest_norm)\n",
    "    \n",
    "    b_val = np.matrix(np.zeros(xtrain_norm.shape[1]))\n",
    "    #print(b_val)\n",
    "    b_val,iterations = grad_desc(xtrain_norm,ytrain_norm,b_val)\n",
    "\n",
    "    \n",
    "    \n",
    "    \n",
    "    predict = pred_values(b_val,xtest_norm)\n",
    "    a=ytest_norm.values.tolist()\n",
    "    actual=[]\n",
    "    for j in a:\n",
    "        actual.append(j[0])\n",
    "#     print(\"accuracy of  \",end=\" \")\n",
    "#     print(i,end=\" \")\n",
    "#     print(\"is: \",end=\" \")\n",
    "    x,fpr_logregr=myaccuracy(predict,actual)\n",
    "    logop.append(x)\n",
    "    print(\"accuracy for \",i,\"is: \",x)\n",
    "    weights=np.array(b_val)[0].tolist()\n",
    "    #print(len(weights))\n",
    "    #print(\"# of weights\",len(weights))\n",
    "    #print(b_val)\n",
    "    #test_inp = normalize(test_inp)\n",
    "    indexes=list(range(1,11))\n",
    "    plt.plot(indexes, initial, color='g')\n",
    "    plt.plot(indexes, weights, color='orange')\n",
    "    plt.xlabel('indexes of array')\n",
    "    plt.ylabel('weights at index i')\n",
    "    plt.title('Weights vs Indexes')\n",
    "    plt.show()\n",
    "    bestsplit.append(x)\n",
    "\n",
    "z=list(zip(bestsplit,fpr_logregr))\n",
    "print(\"In our case for the best model, we need lowest FPR (Which says that if someone has cancer i detected it as no cancer)\")\n",
    "z=sorted(z,key=lambda x:(x[1],-x[0]))\n",
    "print(\"The best model has: accuracy,fpr as\",z[0])\n",
    "# print(\"The best (split,accuracy) is: \",ans)\n",
    "#print(ans)\n",
    "    "
   ]
  },
  {
   "cell_type": "code",
   "execution_count": 57,
   "metadata": {},
   "outputs": [],
   "source": [
    "#KNN with euclidian distances\n",
    "knnop=[]\n",
    "from math import sqrt\n",
    "def euclidian(x,y):\n",
    "    ans=0\n",
    "    for i in range(len(x)):\n",
    "        ans+=(x[i]-y[i])**2\n",
    "    return sqrt(ans)\n",
    "    \n",
    "\n",
    "def KNN(xtrain,ytrain,xtest,ytest):\n",
    "    n=len(xtrain)\n",
    "    #print(\"n is: \",n)\n",
    "    '''Heuristically, k=sqrt(n) is best for k'''\n",
    "    k=int(sqrt(n))\n",
    "    if k%2==0:\n",
    "        k+=1\n",
    "    #print(\"k is: \",k)\n",
    "    answer=[]\n",
    "    for test_index in range(len(xtest)):\n",
    "        curr_result=[]\n",
    "        test=xtest[test_index]\n",
    "        for train_index in range(len(xtrain)):\n",
    "            train=xtrain[train_index]\n",
    "            d=euclidian(train,test)\n",
    "            curr_result.append((train_index,d))\n",
    "        curr_result=sorted(curr_result,key=lambda x:x[1])\n",
    "        topk=curr_result[:23]\n",
    "        indexes=[x[0] for x in topk]\n",
    "        #print(\"Indexes: \",indexes)\n",
    "        #print(\"TOPK: \",topk,len(topk))\n",
    "        label=[]\n",
    "        for i in indexes:\n",
    "            label.append(ytrain[i][-1])\n",
    "        m=max(label,key=label.count)\n",
    "        answer.append(m)\n",
    "    predicted=answer\n",
    "    yt=[]\n",
    "    for i in ytest:\n",
    "        yt.append(i[0])\n",
    "    #print(predicted)\n",
    "    acc,fpr_acc=myaccuracy(predicted,yt)\n",
    "    knnop.append(acc)\n",
    "    print(\"Accuracy is: \",acc)\n",
    "    print()\n",
    "    \n",
    "\n",
    "\n",
    "            \n",
    "            \n",
    "    \n",
    "    \n",
    "    "
   ]
  },
  {
   "cell_type": "code",
   "execution_count": 58,
   "metadata": {},
   "outputs": [
    {
     "name": "stdout",
     "output_type": "stream",
     "text": [
      "KNN model with euclidian distance\n",
      "1 iteration: \n",
      "Confusion matrix: \n",
      "\t 1 \t 0\n",
      "1  \t190\t7\n",
      "0  \t12\t356\n",
      "False positive rate:  0.01928374655647383\n",
      "Accuracy is:  96.63716814159292\n",
      "\n",
      "2 iteration: \n",
      "Confusion matrix: \n",
      "\t 1 \t 0\n",
      "1  \t181\t7\n",
      "0  \t13\t364\n",
      "False positive rate:  0.018867924528301886\n",
      "Accuracy is:  96.46017699115043\n",
      "\n",
      "3 iteration: \n",
      "Confusion matrix: \n",
      "\t 1 \t 0\n",
      "1  \t187\t8\n",
      "0  \t11\t359\n",
      "False positive rate:  0.021798365122615803\n",
      "Accuracy is:  96.63716814159292\n",
      "\n",
      "4 iteration: \n",
      "Confusion matrix: \n",
      "\t 1 \t 0\n",
      "1  \t181\t6\n",
      "0  \t11\t367\n",
      "False positive rate:  0.0160857908847185\n",
      "Accuracy is:  96.99115044247787\n",
      "\n",
      "5 iteration: \n",
      "Confusion matrix: \n",
      "\t 1 \t 0\n",
      "1  \t188\t9\n",
      "0  \t11\t357\n",
      "False positive rate:  0.02459016393442623\n",
      "Accuracy is:  96.46017699115043\n",
      "\n",
      "6 iteration: \n",
      "Confusion matrix: \n",
      "\t 1 \t 0\n",
      "1  \t184\t7\n",
      "0  \t11\t363\n",
      "False positive rate:  0.01891891891891892\n",
      "Accuracy is:  96.8141592920354\n",
      "\n"
     ]
    }
   ],
   "source": [
    "#KNN model\n",
    "print(\"KNN model with euclidian distance\")\n",
    "from math import sqrt\n",
    "bestsplit=[]\n",
    "for i in range(len(split_dataset)):\n",
    "    testdf=split_dataset[i]\n",
    "    traindf=[]\n",
    "    for j in range(len(split_dataset)):\n",
    "        if i!=j:\n",
    "            traindf.append(split_dataset[j])\n",
    "    \n",
    "    \n",
    "    temp=[]\n",
    "    for k in traindf:\n",
    "        for a in k:\n",
    "            temp.append(a)\n",
    "    \n",
    "    \n",
    "    traintemp=pd.DataFrame(temp)\n",
    "    traintemp.columns=[\"id\",\"Clump_Thickness\",\"Uniformity_of_Cell_Size\",\"Uniformity_of_Cell_Shape\",\"Marginal_Adhesion\",\"Single_Epithelial_Cell_Size\",\"Bare_Nuclei\",\"Bland_Chromatin\",\"Normal_Nucleoli\",\"Mitoses\",\"Class\"]\n",
    "\n",
    "    #print(list(traintemp.columns))\n",
    "    traindf=traintemp\n",
    "    \n",
    "    \n",
    "    testtemp=pd.DataFrame(testdf)\n",
    "    testtemp.columns=[\"id\",\"Clump_Thickness\",\"Uniformity_of_Cell_Size\",\"Uniformity_of_Cell_Shape\",\"Marginal_Adhesion\",\"Single_Epithelial_Cell_Size\",\"Bare_Nuclei\",\"Bland_Chromatin\",\"Normal_Nucleoli\",\"Mitoses\",\"Class\"]\n",
    "    testdf=traintemp   \n",
    "    \n",
    "    #Output column of the training dataset (train_df)\n",
    "    ytrain = traindf[[\"Class\"]]\n",
    "    #input columns of the training dataset (train_df)\n",
    "    xtrain = traindf[[\"id\",\"Clump_Thickness\",\"Uniformity_of_Cell_Size\",\"Uniformity_of_Cell_Shape\",\"Marginal_Adhesion\",\"Single_Epithelial_Cell_Size\",\"Bare_Nuclei\",\"Bland_Chromatin\",\"Normal_Nucleoli\",\"Mitoses\"]]\n",
    "\n",
    "    #output column of the testing dataset (test_df)\n",
    "    ytest = testdf[[\"Class\"]]\n",
    "    #input columns of the the testing dataset (test_df)\n",
    "    xtest = testdf[[\"id\",\"Clump_Thickness\",\"Uniformity_of_Cell_Size\",\"Uniformity_of_Cell_Shape\",\"Marginal_Adhesion\",\"Single_Epithelial_Cell_Size\",\"Bare_Nuclei\",\"Bland_Chromatin\",\"Normal_Nucleoli\",\"Mitoses\"]]\n",
    "\n",
    "    #Converting the datatype of all the input columns of training data to 'int' data type\n",
    "    xtrain_norm = xtrain.astype('int')\n",
    "    #Normalising the input data\n",
    "    xtrain_norm = normalize(xtrain_norm)\n",
    "\n",
    "    #Converting the datatype of all the output columns of training data to 'int' data type\n",
    "    ytrain_norm = ytrain.astype('int')\n",
    "    #normalising the output data\n",
    "    ytrain_norm = normalize(ytrain_norm)\n",
    "\n",
    "    #Converting the datatype of all the input columns of testing data to 'int' data type\n",
    "    xtest_norm = xtest.astype('int')\n",
    "    xtest_norm = normalize(xtest_norm)\n",
    "\n",
    "    #Converting the datatype of all the output columns of testing data to 'int' data type\n",
    "    ytest_norm = ytest.astype('int')\n",
    "    ytest_norm = normalize(ytest_norm)\n",
    "    \n",
    "    '''In KNN, finding the value of k is not easy. A small value of k means that noise will have a higher influence on the result and a large value make it computationally expensive. Data scientists usually choose as an odd number if the number of classes is 2 and another simple approach to select k is set k=sqrt(n).'''\n",
    "#     n=len(xtrain_norm)\n",
    "#     print(\"n is: \",n)\n",
    "#     k=int(sqrt(n))\n",
    "#     if k%2==0:\n",
    "#         k+=1\n",
    "#     print(\"k is: \",k)\n",
    "    #print(\"Starting: \")\n",
    "    print(i+1,\"iteration: \")\n",
    "    xtrain=xtrain_norm.values.tolist()\n",
    "    ytrain=ytrain_norm.values.tolist()\n",
    "    xtest=xtest_norm.values.tolist()\n",
    "    ytest=ytest_norm.values.tolist()\n",
    "    #print(\"K\")\n",
    "    KNN(xtrain,ytrain,xtest,ytest)\n",
    "\n",
    "# print(knnop,fpr_knn)\n",
    "# z=list(zip(knnop,fpr_knn))\n",
    "# print(\"z is: \",z)\n",
    "# z=sorted(z,key=lambda x:(x[1],-x[0]))\n",
    "# print(\"The best model has: accuracy,fpr as\",z[0])\n",
    "    \n",
    "    \n",
    "    \n",
    "\n",
    "# best=sorted(bestsplit,key=lambda x:-x[1])\n",
    "# ans=best[0]\n",
    "\n",
    "# print(\"The best (split,accuracy) is: \",ans)\n",
    "# #print(ans)\n",
    "\n",
    "\n",
    "    \n",
    "\n"
   ]
  },
  {
   "cell_type": "code",
   "execution_count": null,
   "metadata": {},
   "outputs": [],
   "source": []
  },
  {
   "cell_type": "code",
   "execution_count": null,
   "metadata": {},
   "outputs": [],
   "source": []
  },
  {
   "cell_type": "code",
   "execution_count": null,
   "metadata": {},
   "outputs": [],
   "source": []
  },
  {
   "cell_type": "code",
   "execution_count": 60,
   "metadata": {},
   "outputs": [],
   "source": [
    "#KNN with manhattan/city-block distances\n",
    "\n",
    "from math import sqrt\n",
    "def manhattan(x,y):\n",
    "    ans=0\n",
    "    for i in range(len(x)):\n",
    "        ans+=abs(x[i]-y[i])\n",
    "    return ans\n",
    "    \n",
    "\n",
    "def KNN(xtrain,ytrain,xtest,ytest):\n",
    "    n=len(xtrain)\n",
    "    #print(\"n is: \",n)\n",
    "    '''Heuristically, k=sqrt(n) is best for k'''\n",
    "    k=int(sqrt(n))\n",
    "    if k%2==0:\n",
    "        k+=1\n",
    "    #print(\"k is: \",k)\n",
    "    answer=[]\n",
    "    for test_index in range(len(xtest)):\n",
    "        curr_result=[]\n",
    "        test=xtest[test_index]\n",
    "        for train_index in range(len(xtrain)):\n",
    "            train=xtrain[train_index]\n",
    "            d=manhattan(train,test)\n",
    "            curr_result.append((train_index,d))\n",
    "        curr_result=sorted(curr_result,key=lambda x:x[1])\n",
    "        topk=curr_result[:23]\n",
    "        indexes=[x[0] for x in topk]\n",
    "        #print(\"Indexes: \",indexes)\n",
    "        #print(\"TOPK: \",topk,len(topk))\n",
    "        label=[]\n",
    "        for i in indexes:\n",
    "            label.append(ytrain[i][-1])\n",
    "        m=max(label,key=label.count)\n",
    "        answer.append(m)\n",
    "    predicted=answer\n",
    "    yt=[]\n",
    "    for i in ytest:\n",
    "        yt.append(i[0])\n",
    "    #print(predicted)\n",
    "    acc,fpr_knn_man=myaccuracy(predicted,yt)\n",
    "    print(\"Accuracy is: \",acc)\n",
    "    print()\n",
    "    \n",
    "            \n",
    "            \n",
    "    \n",
    "    \n",
    "    \n"
   ]
  },
  {
   "cell_type": "code",
   "execution_count": 61,
   "metadata": {},
   "outputs": [
    {
     "name": "stdout",
     "output_type": "stream",
     "text": [
      "KNN model with manhattan distance\n",
      "1 iteration: \n",
      "Confusion matrix: \n",
      "\t 1 \t 0\n",
      "1  \t190\t7\n",
      "0  \t12\t356\n",
      "False positive rate:  0.01928374655647383\n",
      "Accuracy is:  96.63716814159292\n",
      "\n",
      "2 iteration: \n",
      "Confusion matrix: \n",
      "\t 1 \t 0\n",
      "1  \t181\t7\n",
      "0  \t13\t364\n",
      "False positive rate:  0.018867924528301886\n",
      "Accuracy is:  96.46017699115043\n",
      "\n",
      "3 iteration: \n",
      "Confusion matrix: \n",
      "\t 1 \t 0\n",
      "1  \t188\t8\n",
      "0  \t10\t359\n",
      "False positive rate:  0.021798365122615803\n",
      "Accuracy is:  96.8141592920354\n",
      "\n",
      "4 iteration: \n",
      "Confusion matrix: \n",
      "\t 1 \t 0\n",
      "1  \t181\t6\n",
      "0  \t11\t367\n",
      "False positive rate:  0.0160857908847185\n",
      "Accuracy is:  96.99115044247787\n",
      "\n",
      "5 iteration: \n",
      "Confusion matrix: \n",
      "\t 1 \t 0\n",
      "1  \t188\t9\n",
      "0  \t11\t357\n",
      "False positive rate:  0.02459016393442623\n",
      "Accuracy is:  96.46017699115043\n",
      "\n",
      "6 iteration: \n",
      "Confusion matrix: \n",
      "\t 1 \t 0\n",
      "1  \t183\t7\n",
      "0  \t12\t363\n",
      "False positive rate:  0.01891891891891892\n",
      "Accuracy is:  96.63716814159292\n",
      "\n"
     ]
    }
   ],
   "source": [
    "#KNN model with manhattan distances\n",
    "print(\"KNN model with manhattan distance\")\n",
    "from math import sqrt\n",
    "bestsplit=[]\n",
    "for i in range(len(split_dataset)):\n",
    "    testdf=split_dataset[i]\n",
    "    traindf=[]\n",
    "    for j in range(len(split_dataset)):\n",
    "        if i!=j:\n",
    "            traindf.append(split_dataset[j])\n",
    "    \n",
    "    \n",
    "    temp=[]\n",
    "    for k in traindf:\n",
    "        for a in k:\n",
    "            temp.append(a)\n",
    "    \n",
    "    \n",
    "    traintemp=pd.DataFrame(temp)\n",
    "    traintemp.columns=[\"id\",\"Clump_Thickness\",\"Uniformity_of_Cell_Size\",\"Uniformity_of_Cell_Shape\",\"Marginal_Adhesion\",\"Single_Epithelial_Cell_Size\",\"Bare_Nuclei\",\"Bland_Chromatin\",\"Normal_Nucleoli\",\"Mitoses\",\"Class\"]\n",
    "\n",
    "    #print(list(traintemp.columns))\n",
    "    traindf=traintemp\n",
    "    \n",
    "    \n",
    "    testtemp=pd.DataFrame(testdf)\n",
    "    testtemp.columns=[\"id\",\"Clump_Thickness\",\"Uniformity_of_Cell_Size\",\"Uniformity_of_Cell_Shape\",\"Marginal_Adhesion\",\"Single_Epithelial_Cell_Size\",\"Bare_Nuclei\",\"Bland_Chromatin\",\"Normal_Nucleoli\",\"Mitoses\",\"Class\"]\n",
    "    testdf=traintemp   \n",
    "    \n",
    "    #Output column of the training dataset (train_df)\n",
    "    ytrain = traindf[[\"Class\"]]\n",
    "    #input columns of the training dataset (train_df)\n",
    "    xtrain = traindf[[\"id\",\"Clump_Thickness\",\"Uniformity_of_Cell_Size\",\"Uniformity_of_Cell_Shape\",\"Marginal_Adhesion\",\"Single_Epithelial_Cell_Size\",\"Bare_Nuclei\",\"Bland_Chromatin\",\"Normal_Nucleoli\",\"Mitoses\"]]\n",
    "\n",
    "    #output column of the testing dataset (test_df)\n",
    "    ytest = testdf[[\"Class\"]]\n",
    "    #input columns of the the testing dataset (test_df)\n",
    "    xtest = testdf[[\"id\",\"Clump_Thickness\",\"Uniformity_of_Cell_Size\",\"Uniformity_of_Cell_Shape\",\"Marginal_Adhesion\",\"Single_Epithelial_Cell_Size\",\"Bare_Nuclei\",\"Bland_Chromatin\",\"Normal_Nucleoli\",\"Mitoses\"]]\n",
    "\n",
    "    #Converting the datatype of all the input columns of training data to 'int' data type\n",
    "    xtrain_norm = xtrain.astype('int')\n",
    "    #Normalising the input data\n",
    "    xtrain_norm = normalize(xtrain_norm)\n",
    "\n",
    "    #Converting the datatype of all the output columns of training data to 'int' data type\n",
    "    ytrain_norm = ytrain.astype('int')\n",
    "    #normalising the output data\n",
    "    ytrain_norm = normalize(ytrain_norm)\n",
    "\n",
    "    #Converting the datatype of all the input columns of testing data to 'int' data type\n",
    "    xtest_norm = xtest.astype('int')\n",
    "    xtest_norm = normalize(xtest_norm)\n",
    "\n",
    "    #Converting the datatype of all the output columns of testing data to 'int' data type\n",
    "    ytest_norm = ytest.astype('int')\n",
    "    ytest_norm = normalize(ytest_norm)\n",
    "    \n",
    "    '''In KNN, finding the value of k is not easy. A small value of k means that noise will have a higher influence on the result and a large value make it computationally expensive. Data scientists usually choose as an odd number if the number of classes is 2 and another simple approach to select k is set k=sqrt(n).'''\n",
    "#     n=len(xtrain_norm)\n",
    "#     print(\"n is: \",n)\n",
    "#     k=int(sqrt(n))\n",
    "#     if k%2==0:\n",
    "#         k+=1\n",
    "#     print(\"k is: \",k)\n",
    "    #print(\"Starting: \")\n",
    "    print(i+1,\"iteration: \")\n",
    "    xtrain=xtrain_norm.values.tolist()\n",
    "    ytrain=ytrain_norm.values.tolist()\n",
    "    xtest=xtest_norm.values.tolist()\n",
    "    ytest=ytest_norm.values.tolist()\n",
    "    #print(\"K\")\n",
    "    KNN(xtrain,ytrain,xtest,ytest)\n",
    "    \n",
    "    \n",
    "\n",
    "# best=sorted(bestsplit,key=lambda x:-x[1])\n",
    "# ans=best[0]\n",
    "\n",
    "# print(\"The best (split,accuracy) is: \",ans)\n",
    "# #print(ans)\n",
    "\n",
    "\n",
    "    \n",
    "\n"
   ]
  },
  {
   "cell_type": "code",
   "execution_count": 24,
   "metadata": {},
   "outputs": [
    {
     "data": {
      "image/png": "[encoded data removed]",
      "text/plain": [
       "<Figure size 432x288 with 1 Axes>"
      ]
     },
     "metadata": {
      "needs_background": "light"
     },
     "output_type": "display_data"
    }
   ],
   "source": [
    "#Some visualizations:\n",
    "# Bar plots for output class:\n",
    "import matplotlib.pyplot as plt\n",
    "import numpy as np\n",
    "output_class=set(df[\"Class\"].value_counts())\n",
    "output_list=df[\"Class\"].values.tolist()\n",
    "# print(output_list)\n",
    "twos=output_list.count(2)\n",
    "fours=output_list.count(4)\n",
    "classes=[2,4]\n",
    "counts=[twos,fours]\n",
    "# print(twos,fours)\n",
    "plt.bar(classes,counts,color='blue',edgecolor='black')\n",
    "plt.xlabel('Classes', fontsize=16)\n",
    "plt.ylabel('Frequency', fontsize=16)\n",
    "plt.show()\n",
    "\n",
    "# We observe that one of the class has higher frequency than the other and so if we dont have a simple model without any training, we would give out class 2 as output"
   ]
  },
  {
   "cell_type": "code",
   "execution_count": null,
   "metadata": {},
   "outputs": [],
   "source": []
  },
  {
   "cell_type": "code",
   "execution_count": 25,
   "metadata": {},
   "outputs": [
    {
     "name": "stdout",
     "output_type": "stream",
     "text": [
      "[90.61946902654867, 90.61946902654867, 90.08849557522124, 93.80530973451327, 91.32743362831859, 90.4424778761062] [96.63716814159292, 96.46017699115043, 96.63716814159292, 96.99115044247787, 96.46017699115043, 96.8141592920354]\n"
     ]
    }
   ],
   "source": [
    "# print(logop,knnop)"
   ]
  },
  {
   "cell_type": "code",
   "execution_count": null,
   "metadata": {},
   "outputs": [],
   "source": []
  },
  {
   "cell_type": "code",
   "execution_count": null,
   "metadata": {},
   "outputs": [],
   "source": []
  },
  {
   "cell_type": "code",
   "execution_count": 29,
   "metadata": {},
   "outputs": [
    {
     "data": {
      "text/plain": [
       "Text(0.5, 1.0, 'Features vs Values')"
      ]
     },
     "execution_count": 29,
     "metadata": {},
     "output_type": "execute_result"
    },
    {
     "data": {
      "image/png": "[encoded data removed]",
      "text/plain": [
       "<Figure size 432x288 with 1 Axes>"
      ]
     },
     "metadata": {
      "needs_background": "light"
     },
     "output_type": "display_data"
    }
   ],
   "source": [
    "#This contains comparitive box plots of the data\n",
    "s=\"Clump_Thickness\",\"Uniformity_of_Cell_Size\",\"Uniformity_of_Cell_Shape\",\"Marginal_Adhesion\",\"Single_Epithelial_Cell_Size\",\"Bare_Nuclei\",\"Bland_Chromatin\",\"Normal_Nucleoli\",\"Mitoses\"\n",
    "plt.boxplot((df['Clump_Thickness'],df['Uniformity_of_Cell_Size'],df['Uniformity_of_Cell_Shape'],df['Marginal_Adhesion'],df['Single_Epithelial_Cell_Size'],df['Bland_Chromatin'],df['Normal_Nucleoli']))\n",
    "l=[\"Clump_Thickness\",\"Uniformity_of_Cell_Size\",\"Uniformity_of_Cell_Shape\",\"Marginal_Adhesion\",\"Single_Epithelial_Cell_Size\",\"Bland_Chromatin\",\"Normal_Nucleoli\",\"Mitoses\"]\n",
    "x_axis=range(1,8)\n",
    "plt.xticks(x_axis,l)\n",
    "plt.xticks(rotation=90)\n",
    "plt.ylabel(\"Values\")\n",
    "plt.title(\"Features vs Values\")\n",
    "#plt.boxplot((df['Clump_Thickness'],df['Uniformity_of_Cell_Size'],df['Uniformity_of_Cell_Shape'],df['Marginal_Adhesion'],df['Single_Epithelial_Cell_Size'],df['Bare_Nuclei'],df['Bland_Chromatin'],df['Normal_Nucleoli'],df['Mitoses']))"
   ]
  },
  {
   "cell_type": "code",
   "execution_count": null,
   "metadata": {},
   "outputs": [],
   "source": [
    "#Decison trees"
   ]
  },
  {
   "cell_type": "code",
   "execution_count": 151,
   "metadata": {},
   "outputs": [],
   "source": [
    "def unique_vals(rows,col):#takes rows and a particular column and outputs the unique values in the column\n",
    "    l=[]\n",
    "    for row in rows:\n",
    "        l.append(row[col])\n",
    "    return set(l)\n",
    "    \n",
    "    \n",
    "    #returns unique values for a particular column"
   ]
  },
  {
   "cell_type": "code",
   "execution_count": 152,
   "metadata": {},
   "outputs": [
    {
     "data": {
      "text/plain": [
       "{1, 2, 3, 4, 5, 6, 7, 8, 9, 10}"
      ]
     },
     "execution_count": 152,
     "metadata": {},
     "output_type": "execute_result"
    }
   ],
   "source": [
    "unique_vals(train_df.values,1)"
   ]
  },
  {
   "cell_type": "code",
   "execution_count": 153,
   "metadata": {},
   "outputs": [],
   "source": [
    "def class_counts(rows):#takes input as a number of rows and outputs the counts of all unique values of the label of those particular\n",
    "    counts={}#rows.This will be used later to calculate the probability in calculatiing entropy.\n",
    "    for row in rows:\n",
    "        label=row[-1]\n",
    "        if label in counts:\n",
    "            counts[row[-1]]+=1\n",
    "        else:\n",
    "            counts[row[-1]]=1\n",
    "    return counts"
   ]
  },
  {
   "cell_type": "code",
   "execution_count": 154,
   "metadata": {},
   "outputs": [
    {
     "data": {
      "text/plain": [
       "346"
      ]
     },
     "execution_count": 154,
     "metadata": {},
     "output_type": "execute_result"
    }
   ],
   "source": [
    "class_counts(train_df.values)[2]"
   ]
  },
  {
   "cell_type": "code",
   "execution_count": 155,
   "metadata": {},
   "outputs": [],
   "source": [
    "class question:# this takes a particular column and a value which u want to check for each row read further codes to understand \n",
    "    def __init__(self,column,value):\n",
    "        self.column=column\n",
    "        self.value=value\n",
    "    def match(self,example):\n",
    "        val=example[self.column]\n",
    "        if(val==self.value):\n",
    "            return True\n",
    "        else:\n",
    "            return False"
   ]
  },
  {
   "cell_type": "code",
   "execution_count": 156,
   "metadata": {},
   "outputs": [
    {
     "data": {
      "text/plain": [
       "False"
      ]
     },
     "execution_count": 156,
     "metadata": {},
     "output_type": "execute_result"
    }
   ],
   "source": [
    "q=question(1,3)\n",
    "values=train_df.values\n",
    "q.match(values[0])"
   ]
  },
  {
   "cell_type": "code",
   "execution_count": 157,
   "metadata": {},
   "outputs": [],
   "source": [
    "def partition(rows,ques):# this takes a number of rows and ques object and checks each row with that particular question\n",
    "    true_rows, false_rows=[], []#if that row matches then it is appended to true rows else appended to false rows\n",
    "    for row in rows:\n",
    "        if ques.match(row):\n",
    "            true_rows.append(row)\n",
    "        else:\n",
    "            false_rows.append(row)\n",
    "    return true_rows,false_rows"
   ]
  },
  {
   "cell_type": "code",
   "execution_count": 158,
   "metadata": {},
   "outputs": [],
   "source": [
    "import math\n",
    "def impurity(rows):\n",
    "    impurit=0\n",
    "    counts=class_counts(rows)\n",
    "    for label in counts:\n",
    "        prob=counts[label]/len(rows)\n",
    "        impurit=impurit-prob*math.log(prob,2)\n",
    "    return impurit"
   ]
  },
  {
   "cell_type": "code",
   "execution_count": 159,
   "metadata": {},
   "outputs": [
    {
     "name": "stdout",
     "output_type": "stream",
     "text": [
      "[[1002945 5 4 ... 2 1 2]\n",
      " [1016277 6 8 ... 7 1 2]\n",
      " [1017023 4 1 ... 1 1 2]\n",
      " ...\n",
      " [841769 2 1 ... 1 1 2]\n",
      " [888820 5 10 ... 10 2 4]\n",
      " [897471 4 8 ... 6 1 4]]\n"
     ]
    },
    {
     "data": {
      "text/plain": [
       "0.9477890004120656"
      ]
     },
     "execution_count": 159,
     "metadata": {},
     "output_type": "execute_result"
    }
   ],
   "source": [
    "print(train_df.values)\n",
    "impurity(train_df.values)"
   ]
  },
  {
   "cell_type": "code",
   "execution_count": 160,
   "metadata": {},
   "outputs": [
    {
     "data": {
      "text/plain": [
       "(682, 11)"
      ]
     },
     "execution_count": 160,
     "metadata": {},
     "output_type": "execute_result"
    }
   ],
   "source": [
    "df.shape"
   ]
  },
  {
   "cell_type": "code",
   "execution_count": 161,
   "metadata": {},
   "outputs": [],
   "source": [
    "def split(rows):\n",
    "    best_gain=0\n",
    "    best_feature=None\n",
    "    entropy_system=impurity(rows)\n",
    "    n_features=10\n",
    "    gain=entropy_system\n",
    "    for col in range(1,n_features):\n",
    "        l=[]\n",
    "        for row in rows:\n",
    "            l.append(row[col])\n",
    "        unique=set(l)#unique values is that column\n",
    "        for val in unique:\n",
    "            ques=question(col,val)\n",
    "            true_rows, false_rows=partition(rows,ques)\n",
    "            if(len(true_rows)==0 and len(false_rows)==0):\n",
    "                continue\n",
    "            gain=gain-(l.count(val)/len(rows))*impurity(true_rows)\n",
    "            #gain=info_gain(true_rows,false_rows,entropy_system)\n",
    "        if(gain>=best_gain):\n",
    "            best_gain=gain\n",
    "            best_feature=ques\n",
    "    return best_gain,best_feature\n",
    "        \n",
    "        \n",
    "        \n",
    "    "
   ]
  },
  {
   "cell_type": "code",
   "execution_count": 162,
   "metadata": {},
   "outputs": [],
   "source": [
    "best_gain,best_feature=split(train_df.values)"
   ]
  },
  {
   "cell_type": "code",
   "execution_count": 163,
   "metadata": {},
   "outputs": [],
   "source": [
    "class leaf:\n",
    "    def __init__(self,rows):\n",
    "        count=class_counts(rows)\n",
    "        if(2 in count and 4 in count):\n",
    "            if(count[2]>count[4]):\n",
    "                self.predictions=2\n",
    "            else:\n",
    "                self.predictions=4\n",
    "        elif(2 in count):\n",
    "            self.predictions=2\n",
    "        else:\n",
    "            self.predictions=4"
   ]
  },
  {
   "cell_type": "code",
   "execution_count": 164,
   "metadata": {},
   "outputs": [],
   "source": [
    "class decision_node:\n",
    "    def __init__(self,question,true_branch,false_branch):\n",
    "        self.question=question\n",
    "        #self.branch=branch\n",
    "        self.true_branch=true_branch\n",
    "        self.false_branch=false_branch"
   ]
  },
  {
   "cell_type": "code",
   "execution_count": 165,
   "metadata": {},
   "outputs": [],
   "source": [
    "def build_tree(rows):\n",
    "    gain, best_feature=split(rows)\n",
    "    if gain==0:\n",
    "        return leaf(rows)\n",
    "    true_rows, false_rows=partition(rows, best_feature)\n",
    "    true_branch = build_tree(true_rows)\n",
    "    false_branch = build_tree(false_rows)\n",
    "    return decision_node(best_feature, true_branch, false_branch)"
   ]
  },
  {
   "cell_type": "code",
   "execution_count": 166,
   "metadata": {},
   "outputs": [],
   "source": [
    "my_tree = build_tree(train_df.values)"
   ]
  },
  {
   "cell_type": "code",
   "execution_count": 167,
   "metadata": {},
   "outputs": [],
   "source": [
    "def print_tree(node, spacing=\"\"):\n",
    "    \"\"\"World's most elegant tree printing function.\"\"\"\n",
    "\n",
    "    # Base case: we've reached a leaf\n",
    "    if isinstance(node, leaf):\n",
    "        print (spacing + \"Predict\", node.predictions)\n",
    "        return\n",
    "\n",
    "    # Print the question at this node\n",
    "    print (spacing + str(node.question))\n",
    "\n",
    "    # Call this function recursively on the true branch\n",
    "    print (spacing + '--> True:')\n",
    "    print_tree(node.true_branch, spacing + \"  \")\n",
    "\n",
    "    # Call this function recursively on the false branch\n",
    "    print (spacing + '--> False:')\n",
    "    print_tree(node.false_branch, spacing + \"  \")"
   ]
  },
  {
   "cell_type": "code",
   "execution_count": 168,
   "metadata": {},
   "outputs": [],
   "source": [
    "def classify(row, node):\n",
    "    \"\"\"See the 'rules of recursion' above.\"\"\"\n",
    "\n",
    "    # Base case: we've reached a leaf\n",
    "    if isinstance(node, leaf):\n",
    "        return node.predictions\n",
    "\n",
    "    # Decide whether to follow the true-branch or the false-branch.\n",
    "    # Compare the feature / value stored in the node,\n",
    "    # to the example we're considering.\n",
    "    if node.question.match(row):\n",
    "        return classify(row, node.true_branch)\n",
    "    else:\n",
    "        return classify(row, node.false_branch)"
   ]
  },
  {
   "cell_type": "code",
   "execution_count": 169,
   "metadata": {},
   "outputs": [],
   "source": [
    "# classify(train_df.values[7], my_tree)"
   ]
  },
  {
   "cell_type": "code",
   "execution_count": 170,
   "metadata": {},
   "outputs": [
    {
     "name": "stdout",
     "output_type": "stream",
     "text": [
      "0.8823529411764706\n"
     ]
    }
   ],
   "source": [
    "correct=0\n",
    "incorrect=0\n",
    "for row in test_df.values:\n",
    "    if(row[-1]==classify(row, my_tree)):\n",
    "        correct=correct+1\n",
    "    else:\n",
    "        incorrect+=1\n",
    "print(correct/(incorrect+correct))"
   ]
  },
  {
   "cell_type": "code",
   "execution_count": 171,
   "metadata": {},
   "outputs": [],
   "source": [
    "\n",
    "# def DT(testdf,ytest,my_tree):\n",
    "#     classification=[]\n",
    "#     for row in testdf.values:\n",
    "#         c=classify(row,my_tree)\n",
    "#         classification.append(c)\n",
    "#     #print(classification)\n",
    "#     actual_dt=[]\n",
    "#     predicted_dt=classification\n",
    "#     for i in ytest.values:\n",
    "#         x=i[0]\n",
    "#         actual_dt.append(x)\n",
    "\n",
    "#     #print(len(predicted_dt)==len(actual_dt))\n",
    "#     #print(len(predicted_dt),len(actual_dt))\n",
    "        \n",
    "        \n",
    "    \n",
    "    \n",
    "    "
   ]
  },
  {
   "cell_type": "code",
   "execution_count": 188,
   "metadata": {},
   "outputs": [
    {
     "name": "stdout",
     "output_type": "stream",
     "text": [
      "1 iteration: \n",
      "Confusion matrix: \n",
      "\t 1 \t 0\n",
      "1  \t28\t5\n",
      "0  \t11\t92\n",
      "False positive rate:  0.05154639175257732\n",
      "accuracy for  1  iteration is:  88.23529411764706\n",
      "\n",
      "2 iteration: \n",
      "Confusion matrix: \n",
      "\t 1 \t 0\n",
      "1  \t28\t5\n",
      "0  \t11\t92\n",
      "False positive rate:  0.05154639175257732\n",
      "accuracy for  2  iteration is:  88.23529411764706\n",
      "\n",
      "3 iteration: \n",
      "Confusion matrix: \n",
      "\t 1 \t 0\n",
      "1  \t28\t5\n",
      "0  \t11\t92\n",
      "False positive rate:  0.05154639175257732\n",
      "accuracy for  3  iteration is:  88.23529411764706\n",
      "\n",
      "4 iteration: \n",
      "Confusion matrix: \n",
      "\t 1 \t 0\n",
      "1  \t29\t5\n",
      "0  \t10\t92\n",
      "False positive rate:  0.05154639175257732\n",
      "accuracy for  4  iteration is:  88.97058823529412\n",
      "\n",
      "5 iteration: \n",
      "Confusion matrix: \n",
      "\t 1 \t 0\n",
      "1  \t28\t5\n",
      "0  \t11\t92\n",
      "False positive rate:  0.05154639175257732\n",
      "accuracy for  5  iteration is:  88.23529411764706\n",
      "\n",
      "6 iteration: \n",
      "Confusion matrix: \n",
      "\t 1 \t 0\n",
      "1  \t28\t5\n",
      "0  \t11\t92\n",
      "False positive rate:  0.05154639175257732\n",
      "accuracy for  6  iteration is:  88.23529411764706\n",
      "\n"
     ]
    }
   ],
   "source": [
    "dtop=[]\n",
    "from math import sqrt\n",
    "bestsplit=[]\n",
    "for i in range(len(split_dataset)):\n",
    "    testdf=split_dataset[i]\n",
    "    traindf=[]\n",
    "    for j in range(len(split_dataset)):\n",
    "        if i!=j:\n",
    "            traindf.append(split_dataset[j])\n",
    "    \n",
    "    \n",
    "    temp=[]\n",
    "    for k in traindf:\n",
    "        for a in k:\n",
    "            temp.append(a)\n",
    "    \n",
    "    \n",
    "    traintemp=pd.DataFrame(temp)\n",
    "    traintemp.columns=[\"id\",\"Clump_Thickness\",\"Uniformity_of_Cell_Size\",\"Uniformity_of_Cell_Shape\",\"Marginal_Adhesion\",\"Single_Epithelial_Cell_Size\",\"Bare_Nuclei\",\"Bland_Chromatin\",\"Normal_Nucleoli\",\"Mitoses\",\"Class\"]\n",
    "\n",
    "    #print(list(traintemp.columns))\n",
    "    traindf=traintemp\n",
    "    \n",
    "    \n",
    "    testtemp=pd.DataFrame(testdf)\n",
    "    testtemp.columns=[\"id\",\"Clump_Thickness\",\"Uniformity_of_Cell_Size\",\"Uniformity_of_Cell_Shape\",\"Marginal_Adhesion\",\"Single_Epithelial_Cell_Size\",\"Bare_Nuclei\",\"Bland_Chromatin\",\"Normal_Nucleoli\",\"Mitoses\",\"Class\"]\n",
    "    testdf=traintemp   \n",
    "    \n",
    "    #Output column of the training dataset (train_df)\n",
    "    ytrain = traindf[[\"Class\"]]\n",
    "    #input columns of the training dataset (train_df)\n",
    "    xtrain = traindf[[\"id\",\"Clump_Thickness\",\"Uniformity_of_Cell_Size\",\"Uniformity_of_Cell_Shape\",\"Marginal_Adhesion\",\"Single_Epithelial_Cell_Size\",\"Bare_Nuclei\",\"Bland_Chromatin\",\"Normal_Nucleoli\",\"Mitoses\"]]\n",
    "\n",
    "    #output column of the testing dataset (test_df)\n",
    "    ytest = testdf[[\"Class\"]]\n",
    "    #input columns of the the testing dataset (test_df)\n",
    "    xtest = testdf[[\"id\",\"Clump_Thickness\",\"Uniformity_of_Cell_Size\",\"Uniformity_of_Cell_Shape\",\"Marginal_Adhesion\",\"Single_Epithelial_Cell_Size\",\"Bare_Nuclei\",\"Bland_Chromatin\",\"Normal_Nucleoli\",\"Mitoses\"]]\n",
    "\n",
    "    #Converting the datatype of all the input columns of training data to 'int' data type\n",
    "    xtrain_norm = xtrain.astype('int')\n",
    "    #Normalising the input data\n",
    "    xtrain_norm = normalize(xtrain_norm)\n",
    "\n",
    "    #Converting the datatype of all the output columns of training data to 'int' data type\n",
    "    ytrain_norm = ytrain.astype('int')\n",
    "    #normalising the output data\n",
    "    ytrain_norm = normalize(ytrain_norm)\n",
    "\n",
    "    #Converting the datatype of all the input columns of testing data to 'int' data type\n",
    "    xtest_norm = xtest.astype('int')\n",
    "    xtest_norm = normalize(xtest_norm)\n",
    "\n",
    "    #Converting the datatype of all the output columns of testing data to 'int' data type\n",
    "    ytest_norm = ytest.astype('int')\n",
    "    ytest_norm = normalize(ytest_norm)\n",
    "    \n",
    "    '''In KNN, finding the value of k is not easy. A small value of k means that noise will have a higher influence on the result and a large value make it computationally expensive. Data scientists usually choose as an odd number if the number of classes is 2 and another simple approach to select k is set k=sqrt(n).'''\n",
    "#     n=len(xtrain_norm)\n",
    "#     print(\"n is: \",n)\n",
    "#     k=int(sqrt(n))\n",
    "#     if k%2==0:\n",
    "#         k+=1\n",
    "#     print(\"k is: \",k)\n",
    "    #print(\"Starting: \")\n",
    "    print(i+1,\"iteration: \")\n",
    "    xtrain=xtrain_norm.values.tolist()\n",
    "    ytrain=ytrain_norm.values.tolist()\n",
    "    xtest=xtest_norm.values.tolist()\n",
    "    ytest=ytest_norm.values.tolist()\n",
    "    \n",
    "    best_gain,best_feature=split(traindf.values)\n",
    "    my_tree = build_tree(traindf.values)\n",
    "    correct=0\n",
    "    incorrect=0\n",
    "    tp=0\n",
    "    fp=0\n",
    "    tn=0\n",
    "    fn=0\n",
    "    for row in test_df.values:\n",
    "        pred=classify(row,my_tree)\n",
    "        act=row[-1]\n",
    "        pred=int(pred)\n",
    "        act=int(act)\n",
    "        if pred==2:\n",
    "            pred=0\n",
    "        if pred==4:\n",
    "            pred=1\n",
    "        if act==2:\n",
    "            act=0\n",
    "        if act==4:\n",
    "            act=1\n",
    "            \n",
    "            \n",
    "        if pred== 0 and act==0:\n",
    "            tn+=1\n",
    "        elif pred==0 and act==1:\n",
    "            fn+=1\n",
    "        elif pred==1 and act==0:\n",
    "            fp+=1\n",
    "        elif pred==1 and act==1:\n",
    "            tp+=1\n",
    "    ac=(tp+tn)/(tp+tn+fp+fn)\n",
    "    dtop.append(ac*100)\n",
    "    print(\"Confusion matrix: \")\n",
    "    print(\"\\t 1 \\t 0\")\n",
    "    print(\"1  \",tp,fp,sep=\"\\t\")\n",
    "    print(\"0  \",fn,tn,sep=\"\\t\")\n",
    "    fpr=fp/(fp+tn)\n",
    "    print(\"False positive rate: \",fpr)\n",
    "    #print(\"\\n\")\n",
    "    print(\"accuracy for \",i+1,\" iteration is: \",ac*100)\n",
    "    print()\n",
    "    \n",
    "\n",
    "    \n",
    "\n",
    "# best=sorted(bestsplit,key=lambda x:-x[1])\n",
    "# ans=best[0]\n",
    "\n",
    "# print(\"The best (split,accuracy) is: \",ans)\n",
    "# #print(ans)\n",
    "\n",
    "\n",
    "    \n",
    "\n",
    "\n",
    "    \n",
    "    \n",
    "    "
   ]
  },
  {
   "cell_type": "code",
   "execution_count": 189,
   "metadata": {},
   "outputs": [
    {
     "data": {
      "image/png": "[encoded data removed]",
      "text/plain": [
       "<Figure size 432x288 with 1 Axes>"
      ]
     },
     "metadata": {
      "needs_background": "light"
     },
     "output_type": "display_data"
    }
   ],
   "source": [
    "#Comparison:\n",
    "# print(logop)\n",
    "k=list(range(1,7))\n",
    "plt.plot(k, logop, color='g',label=\"logistic regression\")\n",
    "plt.plot(k, knnop, color='orange',label=\"KNN\")\n",
    "plt.plot(k, dtop, color='purple',label=\"DT\")\n",
    "plt.xlabel('values of k')\n",
    "plt.ylabel('Accuracy of models')\n",
    "plt.title('Accuracy of various models for values of k')\n",
    "plt.legend()\n",
    "plt.show()"
   ]
  },
  {
   "cell_type": "code",
   "execution_count": 191,
   "metadata": {},
   "outputs": [
    {
     "data": {
      "image/png": "[encoded data removed]",
      "text/plain": [
       "<Figure size 432x288 with 1 Axes>"
      ]
     },
     "metadata": {
      "needs_background": "light"
     },
     "output_type": "display_data"
    }
   ],
   "source": [
    "errorlog=[]\n",
    "errorknn=[]\n",
    "errordt=[]\n",
    "for i in logop:\n",
    "    x=100.0-i\n",
    "    errorlog.append(x)\n",
    "\n",
    "for i in knnop:\n",
    "    x=100.0-i\n",
    "    errorknn.append(x)\n",
    "\n",
    "for i in dtop:\n",
    "    x=100.0-i\n",
    "    errordt.append(x)\n",
    "\n",
    "plt.plot(k, errorlog, color='blue',label=\"logistic regression\")\n",
    "plt.plot(k, errorknn, color='red',label=\"KNN\")\n",
    "plt.plot(k, errordt, color='green',label=\"DT\")\n",
    "plt.xlabel('values of k')\n",
    "plt.ylabel('error of models')\n",
    "plt.title('error of various models for values of k')\n",
    "plt.legend()\n",
    "plt.show()"
   ]
  },
  {
   "cell_type": "code",
   "execution_count": null,
   "metadata": {},
   "outputs": [],
   "source": []
  }
 ],
 "metadata": {
  "kernelspec": {
   "display_name": "Python 3",
   "language": "python",
   "name": "python3"
  },
  "language_info": {
   "codemirror_mode": {
    "name": "ipython",
    "version": 3
   },
   "file_extension": ".py",
   "mimetype": "text/x-python",
   "name": "python",
   "nbconvert_exporter": "python",
   "pygments_lexer": "ipython3",
   "version": "3.7.3"
  }
 },
 "nbformat": 4,
 "nbformat_minor": 2
}
